{
  "nbformat": 4,
  "nbformat_minor": 0,
  "metadata": {
    "colab": {
      "name": "MPNeuronAndPerceptron.ipynb",
      "provenance": [],
      "collapsed_sections": [
        "fT9sC0UKb12E",
        "HsV1gX3Ge-WC",
        "nNPjMZiwvwp6"
      ]
    },
    "kernelspec": {
      "name": "python3",
      "display_name": "Python 3"
    }
  },
  "cells": [
    {
      "cell_type": "code",
      "metadata": {
        "id": "Y62le--iNQ_g"
      },
      "source": [
        "import sklearn.datasets\n",
        "import numpy as np"
      ],
      "execution_count": 51,
      "outputs": []
    },
    {
      "cell_type": "markdown",
      "metadata": {
        "id": "AYxDp-YaUEEC"
      },
      "source": [
        "# Loading dataset"
      ]
    },
    {
      "cell_type": "code",
      "metadata": {
        "id": "ClBCeOpjPvw3"
      },
      "source": [
        "breast_cancer = sklearn.datasets.load_breast_cancer()"
      ],
      "execution_count": 52,
      "outputs": []
    },
    {
      "cell_type": "code",
      "metadata": {
        "id": "vKGZCnP7P68V"
      },
      "source": [
        "X = breast_cancer.data\n",
        "Y = breast_cancer.target"
      ],
      "execution_count": 53,
      "outputs": []
    },
    {
      "cell_type": "code",
      "metadata": {
        "id": "9SMigpY8QCv5",
        "colab": {
          "base_uri": "https://localhost:8080/"
        },
        "outputId": "f389ffe2-78b0-43ae-99ba-47928e9f7cb6"
      },
      "source": [
        "print(X)\n",
        "print(Y)"
      ],
      "execution_count": 54,
      "outputs": [
        {
          "output_type": "stream",
          "text": [
            "[[1.799e+01 1.038e+01 1.228e+02 ... 2.654e-01 4.601e-01 1.189e-01]\n",
            " [2.057e+01 1.777e+01 1.329e+02 ... 1.860e-01 2.750e-01 8.902e-02]\n",
            " [1.969e+01 2.125e+01 1.300e+02 ... 2.430e-01 3.613e-01 8.758e-02]\n",
            " ...\n",
            " [1.660e+01 2.808e+01 1.083e+02 ... 1.418e-01 2.218e-01 7.820e-02]\n",
            " [2.060e+01 2.933e+01 1.401e+02 ... 2.650e-01 4.087e-01 1.240e-01]\n",
            " [7.760e+00 2.454e+01 4.792e+01 ... 0.000e+00 2.871e-01 7.039e-02]]\n",
            "[0 0 0 0 0 0 0 0 0 0 0 0 0 0 0 0 0 0 0 1 1 1 0 0 0 0 0 0 0 0 0 0 0 0 0 0 0\n",
            " 1 0 0 0 0 0 0 0 0 1 0 1 1 1 1 1 0 0 1 0 0 1 1 1 1 0 1 0 0 1 1 1 1 0 1 0 0\n",
            " 1 0 1 0 0 1 1 1 0 0 1 0 0 0 1 1 1 0 1 1 0 0 1 1 1 0 0 1 1 1 1 0 1 1 0 1 1\n",
            " 1 1 1 1 1 1 0 0 0 1 0 0 1 1 1 0 0 1 0 1 0 0 1 0 0 1 1 0 1 1 0 1 1 1 1 0 1\n",
            " 1 1 1 1 1 1 1 1 0 1 1 1 1 0 0 1 0 1 1 0 0 1 1 0 0 1 1 1 1 0 1 1 0 0 0 1 0\n",
            " 1 0 1 1 1 0 1 1 0 0 1 0 0 0 0 1 0 0 0 1 0 1 0 1 1 0 1 0 0 0 0 1 1 0 0 1 1\n",
            " 1 0 1 1 1 1 1 0 0 1 1 0 1 1 0 0 1 0 1 1 1 1 0 1 1 1 1 1 0 1 0 0 0 0 0 0 0\n",
            " 0 0 0 0 0 0 0 1 1 1 1 1 1 0 1 0 1 1 0 1 1 0 1 0 0 1 1 1 1 1 1 1 1 1 1 1 1\n",
            " 1 0 1 1 0 1 0 1 1 1 1 1 1 1 1 1 1 1 1 1 1 0 1 1 1 0 1 0 1 1 1 1 0 0 0 1 1\n",
            " 1 1 0 1 0 1 0 1 1 1 0 1 1 1 1 1 1 1 0 0 0 1 1 1 1 1 1 1 1 1 1 1 0 0 1 0 0\n",
            " 0 1 0 0 1 1 1 1 1 0 1 1 1 1 1 0 1 1 1 0 1 1 0 0 1 1 1 1 1 1 0 1 1 1 1 1 1\n",
            " 1 0 1 1 1 1 1 0 1 1 0 1 1 1 1 1 1 1 1 1 1 1 1 0 1 0 0 1 0 1 1 1 1 1 0 1 1\n",
            " 0 1 0 1 1 0 1 0 1 1 1 1 1 1 1 1 0 0 1 1 1 1 1 1 0 1 1 1 1 1 1 1 1 1 1 0 1\n",
            " 1 1 1 1 1 1 0 1 0 1 1 0 1 1 1 1 1 0 0 1 0 1 0 1 1 1 1 1 0 1 1 0 1 0 1 0 0\n",
            " 1 1 1 0 1 1 1 1 1 1 1 1 1 1 1 0 1 0 0 1 1 1 1 1 1 1 1 1 1 1 1 1 1 1 1 1 1\n",
            " 1 1 1 1 1 1 1 0 0 0 0 0 0 1]\n"
          ],
          "name": "stdout"
        }
      ]
    },
    {
      "cell_type": "code",
      "metadata": {
        "id": "3iCYauzdQGdh",
        "colab": {
          "base_uri": "https://localhost:8080/"
        },
        "outputId": "235e864b-b908-4170-e80a-4c6d9c0d1a94"
      },
      "source": [
        "print(X.shape, Y.shape)"
      ],
      "execution_count": 55,
      "outputs": [
        {
          "output_type": "stream",
          "text": [
            "(569, 30) (569,)\n"
          ],
          "name": "stdout"
        }
      ]
    },
    {
      "cell_type": "code",
      "metadata": {
        "id": "hCq2K5Z_QLv5"
      },
      "source": [
        "import pandas as pd"
      ],
      "execution_count": 56,
      "outputs": []
    },
    {
      "cell_type": "code",
      "metadata": {
        "id": "uqtmARD9QS_R"
      },
      "source": [
        "data = pd.DataFrame(breast_cancer.data, columns=breast_cancer.feature_names)"
      ],
      "execution_count": 57,
      "outputs": []
    },
    {
      "cell_type": "code",
      "metadata": {
        "id": "uoDddCZWQZvL"
      },
      "source": [
        "data['class'] = breast_cancer.target"
      ],
      "execution_count": 58,
      "outputs": []
    },
    {
      "cell_type": "code",
      "metadata": {
        "id": "o0rmnx3LQfUY",
        "colab": {
          "base_uri": "https://localhost:8080/",
          "height": 249
        },
        "outputId": "ff988f98-6ab8-4ef1-c8f2-1a35ab7f6333"
      },
      "source": [
        "data.head()"
      ],
      "execution_count": 59,
      "outputs": [
        {
          "output_type": "execute_result",
          "data": {
            "text/html": [
              "<div>\n",
              "<style scoped>\n",
              "    .dataframe tbody tr th:only-of-type {\n",
              "        vertical-align: middle;\n",
              "    }\n",
              "\n",
              "    .dataframe tbody tr th {\n",
              "        vertical-align: top;\n",
              "    }\n",
              "\n",
              "    .dataframe thead th {\n",
              "        text-align: right;\n",
              "    }\n",
              "</style>\n",
              "<table border=\"1\" class=\"dataframe\">\n",
              "  <thead>\n",
              "    <tr style=\"text-align: right;\">\n",
              "      <th></th>\n",
              "      <th>mean radius</th>\n",
              "      <th>mean texture</th>\n",
              "      <th>mean perimeter</th>\n",
              "      <th>mean area</th>\n",
              "      <th>mean smoothness</th>\n",
              "      <th>mean compactness</th>\n",
              "      <th>mean concavity</th>\n",
              "      <th>mean concave points</th>\n",
              "      <th>mean symmetry</th>\n",
              "      <th>mean fractal dimension</th>\n",
              "      <th>radius error</th>\n",
              "      <th>texture error</th>\n",
              "      <th>perimeter error</th>\n",
              "      <th>area error</th>\n",
              "      <th>smoothness error</th>\n",
              "      <th>compactness error</th>\n",
              "      <th>concavity error</th>\n",
              "      <th>concave points error</th>\n",
              "      <th>symmetry error</th>\n",
              "      <th>fractal dimension error</th>\n",
              "      <th>worst radius</th>\n",
              "      <th>worst texture</th>\n",
              "      <th>worst perimeter</th>\n",
              "      <th>worst area</th>\n",
              "      <th>worst smoothness</th>\n",
              "      <th>worst compactness</th>\n",
              "      <th>worst concavity</th>\n",
              "      <th>worst concave points</th>\n",
              "      <th>worst symmetry</th>\n",
              "      <th>worst fractal dimension</th>\n",
              "      <th>class</th>\n",
              "    </tr>\n",
              "  </thead>\n",
              "  <tbody>\n",
              "    <tr>\n",
              "      <th>0</th>\n",
              "      <td>17.99</td>\n",
              "      <td>10.38</td>\n",
              "      <td>122.80</td>\n",
              "      <td>1001.0</td>\n",
              "      <td>0.11840</td>\n",
              "      <td>0.27760</td>\n",
              "      <td>0.3001</td>\n",
              "      <td>0.14710</td>\n",
              "      <td>0.2419</td>\n",
              "      <td>0.07871</td>\n",
              "      <td>1.0950</td>\n",
              "      <td>0.9053</td>\n",
              "      <td>8.589</td>\n",
              "      <td>153.40</td>\n",
              "      <td>0.006399</td>\n",
              "      <td>0.04904</td>\n",
              "      <td>0.05373</td>\n",
              "      <td>0.01587</td>\n",
              "      <td>0.03003</td>\n",
              "      <td>0.006193</td>\n",
              "      <td>25.38</td>\n",
              "      <td>17.33</td>\n",
              "      <td>184.60</td>\n",
              "      <td>2019.0</td>\n",
              "      <td>0.1622</td>\n",
              "      <td>0.6656</td>\n",
              "      <td>0.7119</td>\n",
              "      <td>0.2654</td>\n",
              "      <td>0.4601</td>\n",
              "      <td>0.11890</td>\n",
              "      <td>0</td>\n",
              "    </tr>\n",
              "    <tr>\n",
              "      <th>1</th>\n",
              "      <td>20.57</td>\n",
              "      <td>17.77</td>\n",
              "      <td>132.90</td>\n",
              "      <td>1326.0</td>\n",
              "      <td>0.08474</td>\n",
              "      <td>0.07864</td>\n",
              "      <td>0.0869</td>\n",
              "      <td>0.07017</td>\n",
              "      <td>0.1812</td>\n",
              "      <td>0.05667</td>\n",
              "      <td>0.5435</td>\n",
              "      <td>0.7339</td>\n",
              "      <td>3.398</td>\n",
              "      <td>74.08</td>\n",
              "      <td>0.005225</td>\n",
              "      <td>0.01308</td>\n",
              "      <td>0.01860</td>\n",
              "      <td>0.01340</td>\n",
              "      <td>0.01389</td>\n",
              "      <td>0.003532</td>\n",
              "      <td>24.99</td>\n",
              "      <td>23.41</td>\n",
              "      <td>158.80</td>\n",
              "      <td>1956.0</td>\n",
              "      <td>0.1238</td>\n",
              "      <td>0.1866</td>\n",
              "      <td>0.2416</td>\n",
              "      <td>0.1860</td>\n",
              "      <td>0.2750</td>\n",
              "      <td>0.08902</td>\n",
              "      <td>0</td>\n",
              "    </tr>\n",
              "    <tr>\n",
              "      <th>2</th>\n",
              "      <td>19.69</td>\n",
              "      <td>21.25</td>\n",
              "      <td>130.00</td>\n",
              "      <td>1203.0</td>\n",
              "      <td>0.10960</td>\n",
              "      <td>0.15990</td>\n",
              "      <td>0.1974</td>\n",
              "      <td>0.12790</td>\n",
              "      <td>0.2069</td>\n",
              "      <td>0.05999</td>\n",
              "      <td>0.7456</td>\n",
              "      <td>0.7869</td>\n",
              "      <td>4.585</td>\n",
              "      <td>94.03</td>\n",
              "      <td>0.006150</td>\n",
              "      <td>0.04006</td>\n",
              "      <td>0.03832</td>\n",
              "      <td>0.02058</td>\n",
              "      <td>0.02250</td>\n",
              "      <td>0.004571</td>\n",
              "      <td>23.57</td>\n",
              "      <td>25.53</td>\n",
              "      <td>152.50</td>\n",
              "      <td>1709.0</td>\n",
              "      <td>0.1444</td>\n",
              "      <td>0.4245</td>\n",
              "      <td>0.4504</td>\n",
              "      <td>0.2430</td>\n",
              "      <td>0.3613</td>\n",
              "      <td>0.08758</td>\n",
              "      <td>0</td>\n",
              "    </tr>\n",
              "    <tr>\n",
              "      <th>3</th>\n",
              "      <td>11.42</td>\n",
              "      <td>20.38</td>\n",
              "      <td>77.58</td>\n",
              "      <td>386.1</td>\n",
              "      <td>0.14250</td>\n",
              "      <td>0.28390</td>\n",
              "      <td>0.2414</td>\n",
              "      <td>0.10520</td>\n",
              "      <td>0.2597</td>\n",
              "      <td>0.09744</td>\n",
              "      <td>0.4956</td>\n",
              "      <td>1.1560</td>\n",
              "      <td>3.445</td>\n",
              "      <td>27.23</td>\n",
              "      <td>0.009110</td>\n",
              "      <td>0.07458</td>\n",
              "      <td>0.05661</td>\n",
              "      <td>0.01867</td>\n",
              "      <td>0.05963</td>\n",
              "      <td>0.009208</td>\n",
              "      <td>14.91</td>\n",
              "      <td>26.50</td>\n",
              "      <td>98.87</td>\n",
              "      <td>567.7</td>\n",
              "      <td>0.2098</td>\n",
              "      <td>0.8663</td>\n",
              "      <td>0.6869</td>\n",
              "      <td>0.2575</td>\n",
              "      <td>0.6638</td>\n",
              "      <td>0.17300</td>\n",
              "      <td>0</td>\n",
              "    </tr>\n",
              "    <tr>\n",
              "      <th>4</th>\n",
              "      <td>20.29</td>\n",
              "      <td>14.34</td>\n",
              "      <td>135.10</td>\n",
              "      <td>1297.0</td>\n",
              "      <td>0.10030</td>\n",
              "      <td>0.13280</td>\n",
              "      <td>0.1980</td>\n",
              "      <td>0.10430</td>\n",
              "      <td>0.1809</td>\n",
              "      <td>0.05883</td>\n",
              "      <td>0.7572</td>\n",
              "      <td>0.7813</td>\n",
              "      <td>5.438</td>\n",
              "      <td>94.44</td>\n",
              "      <td>0.011490</td>\n",
              "      <td>0.02461</td>\n",
              "      <td>0.05688</td>\n",
              "      <td>0.01885</td>\n",
              "      <td>0.01756</td>\n",
              "      <td>0.005115</td>\n",
              "      <td>22.54</td>\n",
              "      <td>16.67</td>\n",
              "      <td>152.20</td>\n",
              "      <td>1575.0</td>\n",
              "      <td>0.1374</td>\n",
              "      <td>0.2050</td>\n",
              "      <td>0.4000</td>\n",
              "      <td>0.1625</td>\n",
              "      <td>0.2364</td>\n",
              "      <td>0.07678</td>\n",
              "      <td>0</td>\n",
              "    </tr>\n",
              "  </tbody>\n",
              "</table>\n",
              "</div>"
            ],
            "text/plain": [
              "   mean radius  mean texture  ...  worst fractal dimension  class\n",
              "0        17.99         10.38  ...                  0.11890      0\n",
              "1        20.57         17.77  ...                  0.08902      0\n",
              "2        19.69         21.25  ...                  0.08758      0\n",
              "3        11.42         20.38  ...                  0.17300      0\n",
              "4        20.29         14.34  ...                  0.07678      0\n",
              "\n",
              "[5 rows x 31 columns]"
            ]
          },
          "metadata": {
            "tags": []
          },
          "execution_count": 59
        }
      ]
    },
    {
      "cell_type": "code",
      "metadata": {
        "id": "FV7of9G6QhRB",
        "colab": {
          "base_uri": "https://localhost:8080/",
          "height": 338
        },
        "outputId": "e849fc5e-f25e-4d7f-a1bb-c1a36721f5cc"
      },
      "source": [
        "data.describe()"
      ],
      "execution_count": 60,
      "outputs": [
        {
          "output_type": "execute_result",
          "data": {
            "text/html": [
              "<div>\n",
              "<style scoped>\n",
              "    .dataframe tbody tr th:only-of-type {\n",
              "        vertical-align: middle;\n",
              "    }\n",
              "\n",
              "    .dataframe tbody tr th {\n",
              "        vertical-align: top;\n",
              "    }\n",
              "\n",
              "    .dataframe thead th {\n",
              "        text-align: right;\n",
              "    }\n",
              "</style>\n",
              "<table border=\"1\" class=\"dataframe\">\n",
              "  <thead>\n",
              "    <tr style=\"text-align: right;\">\n",
              "      <th></th>\n",
              "      <th>mean radius</th>\n",
              "      <th>mean texture</th>\n",
              "      <th>mean perimeter</th>\n",
              "      <th>mean area</th>\n",
              "      <th>mean smoothness</th>\n",
              "      <th>mean compactness</th>\n",
              "      <th>mean concavity</th>\n",
              "      <th>mean concave points</th>\n",
              "      <th>mean symmetry</th>\n",
              "      <th>mean fractal dimension</th>\n",
              "      <th>radius error</th>\n",
              "      <th>texture error</th>\n",
              "      <th>perimeter error</th>\n",
              "      <th>area error</th>\n",
              "      <th>smoothness error</th>\n",
              "      <th>compactness error</th>\n",
              "      <th>concavity error</th>\n",
              "      <th>concave points error</th>\n",
              "      <th>symmetry error</th>\n",
              "      <th>fractal dimension error</th>\n",
              "      <th>worst radius</th>\n",
              "      <th>worst texture</th>\n",
              "      <th>worst perimeter</th>\n",
              "      <th>worst area</th>\n",
              "      <th>worst smoothness</th>\n",
              "      <th>worst compactness</th>\n",
              "      <th>worst concavity</th>\n",
              "      <th>worst concave points</th>\n",
              "      <th>worst symmetry</th>\n",
              "      <th>worst fractal dimension</th>\n",
              "      <th>class</th>\n",
              "    </tr>\n",
              "  </thead>\n",
              "  <tbody>\n",
              "    <tr>\n",
              "      <th>count</th>\n",
              "      <td>569.000000</td>\n",
              "      <td>569.000000</td>\n",
              "      <td>569.000000</td>\n",
              "      <td>569.000000</td>\n",
              "      <td>569.000000</td>\n",
              "      <td>569.000000</td>\n",
              "      <td>569.000000</td>\n",
              "      <td>569.000000</td>\n",
              "      <td>569.000000</td>\n",
              "      <td>569.000000</td>\n",
              "      <td>569.000000</td>\n",
              "      <td>569.000000</td>\n",
              "      <td>569.000000</td>\n",
              "      <td>569.000000</td>\n",
              "      <td>569.000000</td>\n",
              "      <td>569.000000</td>\n",
              "      <td>569.000000</td>\n",
              "      <td>569.000000</td>\n",
              "      <td>569.000000</td>\n",
              "      <td>569.000000</td>\n",
              "      <td>569.000000</td>\n",
              "      <td>569.000000</td>\n",
              "      <td>569.000000</td>\n",
              "      <td>569.000000</td>\n",
              "      <td>569.000000</td>\n",
              "      <td>569.000000</td>\n",
              "      <td>569.000000</td>\n",
              "      <td>569.000000</td>\n",
              "      <td>569.000000</td>\n",
              "      <td>569.000000</td>\n",
              "      <td>569.000000</td>\n",
              "    </tr>\n",
              "    <tr>\n",
              "      <th>mean</th>\n",
              "      <td>14.127292</td>\n",
              "      <td>19.289649</td>\n",
              "      <td>91.969033</td>\n",
              "      <td>654.889104</td>\n",
              "      <td>0.096360</td>\n",
              "      <td>0.104341</td>\n",
              "      <td>0.088799</td>\n",
              "      <td>0.048919</td>\n",
              "      <td>0.181162</td>\n",
              "      <td>0.062798</td>\n",
              "      <td>0.405172</td>\n",
              "      <td>1.216853</td>\n",
              "      <td>2.866059</td>\n",
              "      <td>40.337079</td>\n",
              "      <td>0.007041</td>\n",
              "      <td>0.025478</td>\n",
              "      <td>0.031894</td>\n",
              "      <td>0.011796</td>\n",
              "      <td>0.020542</td>\n",
              "      <td>0.003795</td>\n",
              "      <td>16.269190</td>\n",
              "      <td>25.677223</td>\n",
              "      <td>107.261213</td>\n",
              "      <td>880.583128</td>\n",
              "      <td>0.132369</td>\n",
              "      <td>0.254265</td>\n",
              "      <td>0.272188</td>\n",
              "      <td>0.114606</td>\n",
              "      <td>0.290076</td>\n",
              "      <td>0.083946</td>\n",
              "      <td>0.627417</td>\n",
              "    </tr>\n",
              "    <tr>\n",
              "      <th>std</th>\n",
              "      <td>3.524049</td>\n",
              "      <td>4.301036</td>\n",
              "      <td>24.298981</td>\n",
              "      <td>351.914129</td>\n",
              "      <td>0.014064</td>\n",
              "      <td>0.052813</td>\n",
              "      <td>0.079720</td>\n",
              "      <td>0.038803</td>\n",
              "      <td>0.027414</td>\n",
              "      <td>0.007060</td>\n",
              "      <td>0.277313</td>\n",
              "      <td>0.551648</td>\n",
              "      <td>2.021855</td>\n",
              "      <td>45.491006</td>\n",
              "      <td>0.003003</td>\n",
              "      <td>0.017908</td>\n",
              "      <td>0.030186</td>\n",
              "      <td>0.006170</td>\n",
              "      <td>0.008266</td>\n",
              "      <td>0.002646</td>\n",
              "      <td>4.833242</td>\n",
              "      <td>6.146258</td>\n",
              "      <td>33.602542</td>\n",
              "      <td>569.356993</td>\n",
              "      <td>0.022832</td>\n",
              "      <td>0.157336</td>\n",
              "      <td>0.208624</td>\n",
              "      <td>0.065732</td>\n",
              "      <td>0.061867</td>\n",
              "      <td>0.018061</td>\n",
              "      <td>0.483918</td>\n",
              "    </tr>\n",
              "    <tr>\n",
              "      <th>min</th>\n",
              "      <td>6.981000</td>\n",
              "      <td>9.710000</td>\n",
              "      <td>43.790000</td>\n",
              "      <td>143.500000</td>\n",
              "      <td>0.052630</td>\n",
              "      <td>0.019380</td>\n",
              "      <td>0.000000</td>\n",
              "      <td>0.000000</td>\n",
              "      <td>0.106000</td>\n",
              "      <td>0.049960</td>\n",
              "      <td>0.111500</td>\n",
              "      <td>0.360200</td>\n",
              "      <td>0.757000</td>\n",
              "      <td>6.802000</td>\n",
              "      <td>0.001713</td>\n",
              "      <td>0.002252</td>\n",
              "      <td>0.000000</td>\n",
              "      <td>0.000000</td>\n",
              "      <td>0.007882</td>\n",
              "      <td>0.000895</td>\n",
              "      <td>7.930000</td>\n",
              "      <td>12.020000</td>\n",
              "      <td>50.410000</td>\n",
              "      <td>185.200000</td>\n",
              "      <td>0.071170</td>\n",
              "      <td>0.027290</td>\n",
              "      <td>0.000000</td>\n",
              "      <td>0.000000</td>\n",
              "      <td>0.156500</td>\n",
              "      <td>0.055040</td>\n",
              "      <td>0.000000</td>\n",
              "    </tr>\n",
              "    <tr>\n",
              "      <th>25%</th>\n",
              "      <td>11.700000</td>\n",
              "      <td>16.170000</td>\n",
              "      <td>75.170000</td>\n",
              "      <td>420.300000</td>\n",
              "      <td>0.086370</td>\n",
              "      <td>0.064920</td>\n",
              "      <td>0.029560</td>\n",
              "      <td>0.020310</td>\n",
              "      <td>0.161900</td>\n",
              "      <td>0.057700</td>\n",
              "      <td>0.232400</td>\n",
              "      <td>0.833900</td>\n",
              "      <td>1.606000</td>\n",
              "      <td>17.850000</td>\n",
              "      <td>0.005169</td>\n",
              "      <td>0.013080</td>\n",
              "      <td>0.015090</td>\n",
              "      <td>0.007638</td>\n",
              "      <td>0.015160</td>\n",
              "      <td>0.002248</td>\n",
              "      <td>13.010000</td>\n",
              "      <td>21.080000</td>\n",
              "      <td>84.110000</td>\n",
              "      <td>515.300000</td>\n",
              "      <td>0.116600</td>\n",
              "      <td>0.147200</td>\n",
              "      <td>0.114500</td>\n",
              "      <td>0.064930</td>\n",
              "      <td>0.250400</td>\n",
              "      <td>0.071460</td>\n",
              "      <td>0.000000</td>\n",
              "    </tr>\n",
              "    <tr>\n",
              "      <th>50%</th>\n",
              "      <td>13.370000</td>\n",
              "      <td>18.840000</td>\n",
              "      <td>86.240000</td>\n",
              "      <td>551.100000</td>\n",
              "      <td>0.095870</td>\n",
              "      <td>0.092630</td>\n",
              "      <td>0.061540</td>\n",
              "      <td>0.033500</td>\n",
              "      <td>0.179200</td>\n",
              "      <td>0.061540</td>\n",
              "      <td>0.324200</td>\n",
              "      <td>1.108000</td>\n",
              "      <td>2.287000</td>\n",
              "      <td>24.530000</td>\n",
              "      <td>0.006380</td>\n",
              "      <td>0.020450</td>\n",
              "      <td>0.025890</td>\n",
              "      <td>0.010930</td>\n",
              "      <td>0.018730</td>\n",
              "      <td>0.003187</td>\n",
              "      <td>14.970000</td>\n",
              "      <td>25.410000</td>\n",
              "      <td>97.660000</td>\n",
              "      <td>686.500000</td>\n",
              "      <td>0.131300</td>\n",
              "      <td>0.211900</td>\n",
              "      <td>0.226700</td>\n",
              "      <td>0.099930</td>\n",
              "      <td>0.282200</td>\n",
              "      <td>0.080040</td>\n",
              "      <td>1.000000</td>\n",
              "    </tr>\n",
              "    <tr>\n",
              "      <th>75%</th>\n",
              "      <td>15.780000</td>\n",
              "      <td>21.800000</td>\n",
              "      <td>104.100000</td>\n",
              "      <td>782.700000</td>\n",
              "      <td>0.105300</td>\n",
              "      <td>0.130400</td>\n",
              "      <td>0.130700</td>\n",
              "      <td>0.074000</td>\n",
              "      <td>0.195700</td>\n",
              "      <td>0.066120</td>\n",
              "      <td>0.478900</td>\n",
              "      <td>1.474000</td>\n",
              "      <td>3.357000</td>\n",
              "      <td>45.190000</td>\n",
              "      <td>0.008146</td>\n",
              "      <td>0.032450</td>\n",
              "      <td>0.042050</td>\n",
              "      <td>0.014710</td>\n",
              "      <td>0.023480</td>\n",
              "      <td>0.004558</td>\n",
              "      <td>18.790000</td>\n",
              "      <td>29.720000</td>\n",
              "      <td>125.400000</td>\n",
              "      <td>1084.000000</td>\n",
              "      <td>0.146000</td>\n",
              "      <td>0.339100</td>\n",
              "      <td>0.382900</td>\n",
              "      <td>0.161400</td>\n",
              "      <td>0.317900</td>\n",
              "      <td>0.092080</td>\n",
              "      <td>1.000000</td>\n",
              "    </tr>\n",
              "    <tr>\n",
              "      <th>max</th>\n",
              "      <td>28.110000</td>\n",
              "      <td>39.280000</td>\n",
              "      <td>188.500000</td>\n",
              "      <td>2501.000000</td>\n",
              "      <td>0.163400</td>\n",
              "      <td>0.345400</td>\n",
              "      <td>0.426800</td>\n",
              "      <td>0.201200</td>\n",
              "      <td>0.304000</td>\n",
              "      <td>0.097440</td>\n",
              "      <td>2.873000</td>\n",
              "      <td>4.885000</td>\n",
              "      <td>21.980000</td>\n",
              "      <td>542.200000</td>\n",
              "      <td>0.031130</td>\n",
              "      <td>0.135400</td>\n",
              "      <td>0.396000</td>\n",
              "      <td>0.052790</td>\n",
              "      <td>0.078950</td>\n",
              "      <td>0.029840</td>\n",
              "      <td>36.040000</td>\n",
              "      <td>49.540000</td>\n",
              "      <td>251.200000</td>\n",
              "      <td>4254.000000</td>\n",
              "      <td>0.222600</td>\n",
              "      <td>1.058000</td>\n",
              "      <td>1.252000</td>\n",
              "      <td>0.291000</td>\n",
              "      <td>0.663800</td>\n",
              "      <td>0.207500</td>\n",
              "      <td>1.000000</td>\n",
              "    </tr>\n",
              "  </tbody>\n",
              "</table>\n",
              "</div>"
            ],
            "text/plain": [
              "       mean radius  mean texture  ...  worst fractal dimension       class\n",
              "count   569.000000    569.000000  ...               569.000000  569.000000\n",
              "mean     14.127292     19.289649  ...                 0.083946    0.627417\n",
              "std       3.524049      4.301036  ...                 0.018061    0.483918\n",
              "min       6.981000      9.710000  ...                 0.055040    0.000000\n",
              "25%      11.700000     16.170000  ...                 0.071460    0.000000\n",
              "50%      13.370000     18.840000  ...                 0.080040    1.000000\n",
              "75%      15.780000     21.800000  ...                 0.092080    1.000000\n",
              "max      28.110000     39.280000  ...                 0.207500    1.000000\n",
              "\n",
              "[8 rows x 31 columns]"
            ]
          },
          "metadata": {
            "tags": []
          },
          "execution_count": 60
        }
      ]
    },
    {
      "cell_type": "code",
      "metadata": {
        "id": "w-jZOBG6QqyG",
        "colab": {
          "base_uri": "https://localhost:8080/"
        },
        "outputId": "8bba3da1-510c-41d0-f1bd-430b551e437b"
      },
      "source": [
        "print(data['class'].value_counts())"
      ],
      "execution_count": 61,
      "outputs": [
        {
          "output_type": "stream",
          "text": [
            "1    357\n",
            "0    212\n",
            "Name: class, dtype: int64\n"
          ],
          "name": "stdout"
        }
      ]
    },
    {
      "cell_type": "code",
      "metadata": {
        "id": "0bhbds5iQz7p",
        "colab": {
          "base_uri": "https://localhost:8080/"
        },
        "outputId": "dea69baa-2ffd-4086-daf7-3460f817b515"
      },
      "source": [
        "print(breast_cancer.target_names)"
      ],
      "execution_count": 62,
      "outputs": [
        {
          "output_type": "stream",
          "text": [
            "['malignant' 'benign']\n"
          ],
          "name": "stdout"
        }
      ]
    },
    {
      "cell_type": "code",
      "metadata": {
        "id": "Nvgmi3LeQ47D",
        "colab": {
          "base_uri": "https://localhost:8080/",
          "height": 190
        },
        "outputId": "ecbd49af-ee04-4f1e-c579-1482d174849a"
      },
      "source": [
        "data.groupby('class').mean()"
      ],
      "execution_count": 63,
      "outputs": [
        {
          "output_type": "execute_result",
          "data": {
            "text/html": [
              "<div>\n",
              "<style scoped>\n",
              "    .dataframe tbody tr th:only-of-type {\n",
              "        vertical-align: middle;\n",
              "    }\n",
              "\n",
              "    .dataframe tbody tr th {\n",
              "        vertical-align: top;\n",
              "    }\n",
              "\n",
              "    .dataframe thead th {\n",
              "        text-align: right;\n",
              "    }\n",
              "</style>\n",
              "<table border=\"1\" class=\"dataframe\">\n",
              "  <thead>\n",
              "    <tr style=\"text-align: right;\">\n",
              "      <th></th>\n",
              "      <th>mean radius</th>\n",
              "      <th>mean texture</th>\n",
              "      <th>mean perimeter</th>\n",
              "      <th>mean area</th>\n",
              "      <th>mean smoothness</th>\n",
              "      <th>mean compactness</th>\n",
              "      <th>mean concavity</th>\n",
              "      <th>mean concave points</th>\n",
              "      <th>mean symmetry</th>\n",
              "      <th>mean fractal dimension</th>\n",
              "      <th>radius error</th>\n",
              "      <th>texture error</th>\n",
              "      <th>perimeter error</th>\n",
              "      <th>area error</th>\n",
              "      <th>smoothness error</th>\n",
              "      <th>compactness error</th>\n",
              "      <th>concavity error</th>\n",
              "      <th>concave points error</th>\n",
              "      <th>symmetry error</th>\n",
              "      <th>fractal dimension error</th>\n",
              "      <th>worst radius</th>\n",
              "      <th>worst texture</th>\n",
              "      <th>worst perimeter</th>\n",
              "      <th>worst area</th>\n",
              "      <th>worst smoothness</th>\n",
              "      <th>worst compactness</th>\n",
              "      <th>worst concavity</th>\n",
              "      <th>worst concave points</th>\n",
              "      <th>worst symmetry</th>\n",
              "      <th>worst fractal dimension</th>\n",
              "    </tr>\n",
              "    <tr>\n",
              "      <th>class</th>\n",
              "      <th></th>\n",
              "      <th></th>\n",
              "      <th></th>\n",
              "      <th></th>\n",
              "      <th></th>\n",
              "      <th></th>\n",
              "      <th></th>\n",
              "      <th></th>\n",
              "      <th></th>\n",
              "      <th></th>\n",
              "      <th></th>\n",
              "      <th></th>\n",
              "      <th></th>\n",
              "      <th></th>\n",
              "      <th></th>\n",
              "      <th></th>\n",
              "      <th></th>\n",
              "      <th></th>\n",
              "      <th></th>\n",
              "      <th></th>\n",
              "      <th></th>\n",
              "      <th></th>\n",
              "      <th></th>\n",
              "      <th></th>\n",
              "      <th></th>\n",
              "      <th></th>\n",
              "      <th></th>\n",
              "      <th></th>\n",
              "      <th></th>\n",
              "      <th></th>\n",
              "    </tr>\n",
              "  </thead>\n",
              "  <tbody>\n",
              "    <tr>\n",
              "      <th>0</th>\n",
              "      <td>17.462830</td>\n",
              "      <td>21.604906</td>\n",
              "      <td>115.365377</td>\n",
              "      <td>978.376415</td>\n",
              "      <td>0.102898</td>\n",
              "      <td>0.145188</td>\n",
              "      <td>0.160775</td>\n",
              "      <td>0.087990</td>\n",
              "      <td>0.192909</td>\n",
              "      <td>0.062680</td>\n",
              "      <td>0.609083</td>\n",
              "      <td>1.210915</td>\n",
              "      <td>4.323929</td>\n",
              "      <td>72.672406</td>\n",
              "      <td>0.006780</td>\n",
              "      <td>0.032281</td>\n",
              "      <td>0.041824</td>\n",
              "      <td>0.015060</td>\n",
              "      <td>0.020472</td>\n",
              "      <td>0.004062</td>\n",
              "      <td>21.134811</td>\n",
              "      <td>29.318208</td>\n",
              "      <td>141.370330</td>\n",
              "      <td>1422.286321</td>\n",
              "      <td>0.144845</td>\n",
              "      <td>0.374824</td>\n",
              "      <td>0.450606</td>\n",
              "      <td>0.182237</td>\n",
              "      <td>0.323468</td>\n",
              "      <td>0.091530</td>\n",
              "    </tr>\n",
              "    <tr>\n",
              "      <th>1</th>\n",
              "      <td>12.146524</td>\n",
              "      <td>17.914762</td>\n",
              "      <td>78.075406</td>\n",
              "      <td>462.790196</td>\n",
              "      <td>0.092478</td>\n",
              "      <td>0.080085</td>\n",
              "      <td>0.046058</td>\n",
              "      <td>0.025717</td>\n",
              "      <td>0.174186</td>\n",
              "      <td>0.062867</td>\n",
              "      <td>0.284082</td>\n",
              "      <td>1.220380</td>\n",
              "      <td>2.000321</td>\n",
              "      <td>21.135148</td>\n",
              "      <td>0.007196</td>\n",
              "      <td>0.021438</td>\n",
              "      <td>0.025997</td>\n",
              "      <td>0.009858</td>\n",
              "      <td>0.020584</td>\n",
              "      <td>0.003636</td>\n",
              "      <td>13.379801</td>\n",
              "      <td>23.515070</td>\n",
              "      <td>87.005938</td>\n",
              "      <td>558.899440</td>\n",
              "      <td>0.124959</td>\n",
              "      <td>0.182673</td>\n",
              "      <td>0.166238</td>\n",
              "      <td>0.074444</td>\n",
              "      <td>0.270246</td>\n",
              "      <td>0.079442</td>\n",
              "    </tr>\n",
              "  </tbody>\n",
              "</table>\n",
              "</div>"
            ],
            "text/plain": [
              "       mean radius  mean texture  ...  worst symmetry  worst fractal dimension\n",
              "class                             ...                                         \n",
              "0        17.462830     21.604906  ...        0.323468                 0.091530\n",
              "1        12.146524     17.914762  ...        0.270246                 0.079442\n",
              "\n",
              "[2 rows x 30 columns]"
            ]
          },
          "metadata": {
            "tags": []
          },
          "execution_count": 63
        }
      ]
    },
    {
      "cell_type": "markdown",
      "metadata": {
        "id": "TQOa8tuKWmEx"
      },
      "source": [
        "# Train test split"
      ]
    },
    {
      "cell_type": "code",
      "metadata": {
        "id": "7OOt-sSaWnVZ"
      },
      "source": [
        "from sklearn.model_selection import train_test_split"
      ],
      "execution_count": 64,
      "outputs": []
    },
    {
      "cell_type": "code",
      "metadata": {
        "id": "b4MW2HlzXLQe"
      },
      "source": [
        "X = data.drop('class', axis=1)\n",
        "Y = data['class']"
      ],
      "execution_count": 65,
      "outputs": []
    },
    {
      "cell_type": "code",
      "metadata": {
        "id": "gDrEsZiMXXEs",
        "colab": {
          "base_uri": "https://localhost:8080/"
        },
        "outputId": "51df57e3-2263-4239-e493-806bfda9fa84"
      },
      "source": [
        "type(X)"
      ],
      "execution_count": 66,
      "outputs": [
        {
          "output_type": "execute_result",
          "data": {
            "text/plain": [
              "pandas.core.frame.DataFrame"
            ]
          },
          "metadata": {
            "tags": []
          },
          "execution_count": 66
        }
      ]
    },
    {
      "cell_type": "code",
      "metadata": {
        "id": "rLY0MMINXXyl"
      },
      "source": [
        "X_train, X_test, Y_train, Y_test = train_test_split(X, Y)"
      ],
      "execution_count": 67,
      "outputs": []
    },
    {
      "cell_type": "code",
      "metadata": {
        "id": "K3mRpxH2XfNC",
        "colab": {
          "base_uri": "https://localhost:8080/"
        },
        "outputId": "b0175ab4-cc78-40af-8fe6-4eb199b90c13"
      },
      "source": [
        "print(Y.shape, Y_train.shape, Y_test.shape)"
      ],
      "execution_count": 68,
      "outputs": [
        {
          "output_type": "stream",
          "text": [
            "(569,) (426,) (143,)\n"
          ],
          "name": "stdout"
        }
      ]
    },
    {
      "cell_type": "code",
      "metadata": {
        "id": "IaVrRpmTXiso"
      },
      "source": [
        "X_train, X_test, Y_train, Y_test = train_test_split(X, Y, test_size=0.1)"
      ],
      "execution_count": 69,
      "outputs": []
    },
    {
      "cell_type": "code",
      "metadata": {
        "id": "f4Obcq42XwSF",
        "colab": {
          "base_uri": "https://localhost:8080/"
        },
        "outputId": "e062a896-5ba7-4d26-a406-842afce1c678"
      },
      "source": [
        "print(Y.mean(), Y_train.mean(), Y_test.mean())"
      ],
      "execution_count": 70,
      "outputs": [
        {
          "output_type": "stream",
          "text": [
            "0.6274165202108963 0.626953125 0.631578947368421\n"
          ],
          "name": "stdout"
        }
      ]
    },
    {
      "cell_type": "code",
      "metadata": {
        "id": "aCzE4vW1X9DI"
      },
      "source": [
        "X_train, X_test, Y_train, Y_test = train_test_split(X, Y, test_size=0.1, stratify = Y)"
      ],
      "execution_count": 71,
      "outputs": []
    },
    {
      "cell_type": "code",
      "metadata": {
        "id": "G6S8TEOKYMAp",
        "colab": {
          "base_uri": "https://localhost:8080/"
        },
        "outputId": "fae32310-4b6f-45d2-f437-df5497c94a77"
      },
      "source": [
        "print(X_train.mean(), X_test.mean(), X.mean())"
      ],
      "execution_count": 72,
      "outputs": [
        {
          "output_type": "stream",
          "text": [
            "mean radius                 14.135211\n",
            "mean texture                19.312109\n",
            "mean perimeter              91.996055\n",
            "mean area                  655.478516\n",
            "mean smoothness              0.096366\n",
            "mean compactness             0.103596\n",
            "mean concavity               0.088554\n",
            "mean concave points          0.049030\n",
            "mean symmetry                0.181511\n",
            "mean fractal dimension       0.062659\n",
            "radius error                 0.406322\n",
            "texture error                1.216111\n",
            "perimeter error              2.861501\n",
            "area error                  40.563680\n",
            "smoothness error             0.006981\n",
            "compactness error            0.025217\n",
            "concavity error              0.031646\n",
            "concave points error         0.011803\n",
            "symmetry error               0.020494\n",
            "fractal dimension error      0.003770\n",
            "worst radius                16.277139\n",
            "worst texture               25.672812\n",
            "worst perimeter            107.260625\n",
            "worst area                 881.941602\n",
            "worst smoothness             0.132227\n",
            "worst compactness            0.252250\n",
            "worst concavity              0.271147\n",
            "worst concave points         0.114751\n",
            "worst symmetry               0.289878\n",
            "worst fractal dimension      0.083738\n",
            "dtype: float64 mean radius                 14.056158\n",
            "mean texture                19.087895\n",
            "mean perimeter              91.726316\n",
            "mean area                  649.594737\n",
            "mean smoothness              0.096307\n",
            "mean compactness             0.111033\n",
            "mean concavity               0.091002\n",
            "mean concave points          0.047927\n",
            "mean symmetry                0.178028\n",
            "mean fractal dimension       0.064039\n",
            "radius error                 0.394846\n",
            "texture error                1.223521\n",
            "perimeter error              2.907002\n",
            "area error                  38.301649\n",
            "smoothness error             0.007583\n",
            "compactness error            0.027826\n",
            "concavity error              0.034117\n",
            "concave points error         0.011733\n",
            "symmetry error               0.020973\n",
            "fractal dimension error      0.004022\n",
            "worst radius                16.197789\n",
            "worst texture               25.716842\n",
            "worst perimeter            107.266491\n",
            "worst area                 868.380702\n",
            "worst smoothness             0.133639\n",
            "worst compactness            0.272369\n",
            "worst concavity              0.281540\n",
            "worst concave points         0.113306\n",
            "worst symmetry               0.291851\n",
            "worst fractal dimension      0.085813\n",
            "dtype: float64 mean radius                 14.127292\n",
            "mean texture                19.289649\n",
            "mean perimeter              91.969033\n",
            "mean area                  654.889104\n",
            "mean smoothness              0.096360\n",
            "mean compactness             0.104341\n",
            "mean concavity               0.088799\n",
            "mean concave points          0.048919\n",
            "mean symmetry                0.181162\n",
            "mean fractal dimension       0.062798\n",
            "radius error                 0.405172\n",
            "texture error                1.216853\n",
            "perimeter error              2.866059\n",
            "area error                  40.337079\n",
            "smoothness error             0.007041\n",
            "compactness error            0.025478\n",
            "concavity error              0.031894\n",
            "concave points error         0.011796\n",
            "symmetry error               0.020542\n",
            "fractal dimension error      0.003795\n",
            "worst radius                16.269190\n",
            "worst texture               25.677223\n",
            "worst perimeter            107.261213\n",
            "worst area                 880.583128\n",
            "worst smoothness             0.132369\n",
            "worst compactness            0.254265\n",
            "worst concavity              0.272188\n",
            "worst concave points         0.114606\n",
            "worst symmetry               0.290076\n",
            "worst fractal dimension      0.083946\n",
            "dtype: float64\n"
          ],
          "name": "stdout"
        }
      ]
    },
    {
      "cell_type": "code",
      "metadata": {
        "id": "-2a4ILm0YWTe"
      },
      "source": [
        "X_train, X_test, Y_train, Y_test = train_test_split(X, Y, test_size=0.1, stratify = Y, random_state=1)"
      ],
      "execution_count": 73,
      "outputs": []
    },
    {
      "cell_type": "code",
      "metadata": {
        "id": "7KHMCeo6Y4sL",
        "colab": {
          "base_uri": "https://localhost:8080/"
        },
        "outputId": "1ee65d32-ff21-41c9-a2e5-b86fb30d92f4"
      },
      "source": [
        "print(X_train.mean(), X_test.mean(), X.mean())"
      ],
      "execution_count": 74,
      "outputs": [
        {
          "output_type": "stream",
          "text": [
            "mean radius                 14.058656\n",
            "mean texture                19.309668\n",
            "mean perimeter              91.530488\n",
            "mean area                  648.097266\n",
            "mean smoothness              0.096568\n",
            "mean compactness             0.105144\n",
            "mean concavity               0.089342\n",
            "mean concave points          0.048892\n",
            "mean symmetry                0.181961\n",
            "mean fractal dimension       0.062979\n",
            "radius error                 0.403659\n",
            "texture error                1.206856\n",
            "perimeter error              2.861173\n",
            "area error                  39.935506\n",
            "smoothness error             0.007067\n",
            "compactness error            0.025681\n",
            "concavity error              0.032328\n",
            "concave points error         0.011963\n",
            "symmetry error               0.020584\n",
            "fractal dimension error      0.003815\n",
            "worst radius                16.194275\n",
            "worst texture               25.644902\n",
            "worst perimeter            106.757715\n",
            "worst area                 871.647852\n",
            "worst smoothness             0.132592\n",
            "worst compactness            0.257415\n",
            "worst concavity              0.275623\n",
            "worst concave points         0.115454\n",
            "worst symmetry               0.291562\n",
            "worst fractal dimension      0.084402\n",
            "dtype: float64 mean radius                 14.743807\n",
            "mean texture                19.109825\n",
            "mean perimeter              95.908246\n",
            "mean area                  715.896491\n",
            "mean smoothness              0.094496\n",
            "mean compactness             0.097130\n",
            "mean concavity               0.083923\n",
            "mean concave points          0.049159\n",
            "mean symmetry                0.173981\n",
            "mean fractal dimension       0.061169\n",
            "radius error                 0.418767\n",
            "texture error                1.306656\n",
            "perimeter error              2.909946\n",
            "area error                  43.944193\n",
            "smoothness error             0.006809\n",
            "compactness error            0.023659\n",
            "concavity error              0.027989\n",
            "concave points error         0.010293\n",
            "symmetry error               0.020169\n",
            "fractal dimension error      0.003618\n",
            "worst radius                16.942105\n",
            "worst texture               25.967544\n",
            "worst perimeter            111.783860\n",
            "worst area                 960.843860\n",
            "worst smoothness             0.130357\n",
            "worst compactness            0.225973\n",
            "worst concavity              0.241340\n",
            "worst concave points         0.106994\n",
            "worst symmetry               0.276719\n",
            "worst fractal dimension      0.079852\n",
            "dtype: float64 mean radius                 14.127292\n",
            "mean texture                19.289649\n",
            "mean perimeter              91.969033\n",
            "mean area                  654.889104\n",
            "mean smoothness              0.096360\n",
            "mean compactness             0.104341\n",
            "mean concavity               0.088799\n",
            "mean concave points          0.048919\n",
            "mean symmetry                0.181162\n",
            "mean fractal dimension       0.062798\n",
            "radius error                 0.405172\n",
            "texture error                1.216853\n",
            "perimeter error              2.866059\n",
            "area error                  40.337079\n",
            "smoothness error             0.007041\n",
            "compactness error            0.025478\n",
            "concavity error              0.031894\n",
            "concave points error         0.011796\n",
            "symmetry error               0.020542\n",
            "fractal dimension error      0.003795\n",
            "worst radius                16.269190\n",
            "worst texture               25.677223\n",
            "worst perimeter            107.261213\n",
            "worst area                 880.583128\n",
            "worst smoothness             0.132369\n",
            "worst compactness            0.254265\n",
            "worst concavity              0.272188\n",
            "worst concave points         0.114606\n",
            "worst symmetry               0.290076\n",
            "worst fractal dimension      0.083946\n",
            "dtype: float64\n"
          ],
          "name": "stdout"
        }
      ]
    },
    {
      "cell_type": "markdown",
      "metadata": {
        "id": "fT9sC0UKb12E"
      },
      "source": [
        "# Binarisation of input"
      ]
    },
    {
      "cell_type": "code",
      "metadata": {
        "id": "845LI9BPcuHG"
      },
      "source": [
        "import matplotlib.pyplot as plt"
      ],
      "execution_count": 75,
      "outputs": []
    },
    {
      "cell_type": "code",
      "metadata": {
        "id": "72YS45uZdX0D",
        "colab": {
          "base_uri": "https://localhost:8080/",
          "height": 0
        },
        "outputId": "9ed42c01-8e79-4c26-c85c-e99497df0171"
      },
      "source": [
        "plt.plot(X_test.T, '*')\n",
        "plt.xticks(rotation='vertical')\n",
        "plt.show()"
      ],
      "execution_count": 76,
      "outputs": [
        {
          "output_type": "display_data",
          "data": {
            "image/png": "[encoded data removed]",
            "text/plain": [
              "<Figure size 432x288 with 1 Axes>"
            ]
          },
          "metadata": {
            "tags": [],
            "needs_background": "light"
          }
        }
      ]
    },
    {
      "cell_type": "code",
      "metadata": {
        "id": "JXoaxoUzdZ-u"
      },
      "source": [
        "X_binarised_3_train = X_train['mean area'].map(lambda x: 0 if x < 1000 else 1)"
      ],
      "execution_count": 77,
      "outputs": []
    },
    {
      "cell_type": "code",
      "metadata": {
        "id": "A7W6c9o8d3Qd",
        "colab": {
          "base_uri": "https://localhost:8080/",
          "height": 0
        },
        "outputId": "29a62583-51b6-455d-f9bd-f5f3175b2491"
      },
      "source": [
        "plt.plot(X_binarised_3_train, '*')"
      ],
      "execution_count": 78,
      "outputs": [
        {
          "output_type": "execute_result",
          "data": {
            "text/plain": [
              "[<matplotlib.lines.Line2D at 0x7fa7b69805f8>]"
            ]
          },
          "metadata": {
            "tags": []
          },
          "execution_count": 78
        },
        {
          "output_type": "display_data",
          "data": {
            "image/png": "[encoded data removed]",
            "text/plain": [
              "<Figure size 432x288 with 1 Axes>"
            ]
          },
          "metadata": {
            "tags": [],
            "needs_background": "light"
          }
        }
      ]
    },
    {
      "cell_type": "code",
      "metadata": {
        "id": "8a3Dh5Gnd8bG"
      },
      "source": [
        "X_binarised_train = X_train.apply(pd.cut, bins=2, labels=[1,0])"
      ],
      "execution_count": 79,
      "outputs": []
    },
    {
      "cell_type": "code",
      "metadata": {
        "id": "KQY7ICWweNxt",
        "colab": {
          "base_uri": "https://localhost:8080/",
          "height": 0
        },
        "outputId": "fc8973e8-2f6a-435a-cf35-ee3dbce57053"
      },
      "source": [
        "plt.plot(X_binarised_train.T, '*')\n",
        "plt.xticks(rotation='vertical')\n",
        "plt.show()"
      ],
      "execution_count": 80,
      "outputs": [
        {
          "output_type": "display_data",
          "data": {
            "image/png": "[encoded data removed]",
            "text/plain": [
              "<Figure size 432x288 with 1 Axes>"
            ]
          },
          "metadata": {
            "tags": [],
            "needs_background": "light"
          }
        }
      ]
    },
    {
      "cell_type": "code",
      "metadata": {
        "id": "bGxvIRV9eRrh"
      },
      "source": [
        "X_binarised_test = X_test.apply(pd.cut, bins=2, labels=[1,0])"
      ],
      "execution_count": 81,
      "outputs": []
    },
    {
      "cell_type": "code",
      "metadata": {
        "id": "gJsquRBFeZJS",
        "colab": {
          "base_uri": "https://localhost:8080/"
        },
        "outputId": "229b391a-c0fd-41e5-e4f8-9c5853f9a0e9"
      },
      "source": [
        "type(X_binarised_test)"
      ],
      "execution_count": 82,
      "outputs": [
        {
          "output_type": "execute_result",
          "data": {
            "text/plain": [
              "pandas.core.frame.DataFrame"
            ]
          },
          "metadata": {
            "tags": []
          },
          "execution_count": 82
        }
      ]
    },
    {
      "cell_type": "code",
      "metadata": {
        "id": "sVBP3O2ueabj"
      },
      "source": [
        "X_binarised_test = X_binarised_test.values\n",
        "X_binarised_train = X_binarised_train.values"
      ],
      "execution_count": 83,
      "outputs": []
    },
    {
      "cell_type": "code",
      "metadata": {
        "id": "8zfwovfzeiBm",
        "colab": {
          "base_uri": "https://localhost:8080/"
        },
        "outputId": "280e12a3-eb44-4c39-d91a-0b0f77294e2a"
      },
      "source": [
        "type(X_binarised_test)"
      ],
      "execution_count": 84,
      "outputs": [
        {
          "output_type": "execute_result",
          "data": {
            "text/plain": [
              "numpy.ndarray"
            ]
          },
          "metadata": {
            "tags": []
          },
          "execution_count": 84
        }
      ]
    },
    {
      "cell_type": "markdown",
      "metadata": {
        "id": "HsV1gX3Ge-WC"
      },
      "source": [
        "# MP neuron model"
      ]
    },
    {
      "cell_type": "code",
      "metadata": {
        "id": "s5GH3kqQpULG"
      },
      "source": [
        "from random import randint"
      ],
      "execution_count": 85,
      "outputs": []
    },
    {
      "cell_type": "code",
      "metadata": {
        "id": "JoOBEPiDoh5A",
        "colab": {
          "base_uri": "https://localhost:8080/"
        },
        "outputId": "ec301f9d-cacd-4ea9-e849-81ff28901c42"
      },
      "source": [
        "b = 3\n",
        "\n",
        "i = randint(0, X_binarised_train.shape[0])\n",
        "\n",
        "print('For row', i)\n",
        "\n",
        "if (np.sum(X_binarised_train[100, :]) >= b):\n",
        "  print('MP Neuron inference is malignant')\n",
        "else:\n",
        "  print('MP Neuron inference is benign')\n",
        "  \n",
        "if (Y_train[i] == 1):\n",
        "  print('Ground truth is malignant')\n",
        "else:\n",
        "  print('Ground truth is benign')"
      ],
      "execution_count": 86,
      "outputs": [
        {
          "output_type": "stream",
          "text": [
            "For row 87\n",
            "MP Neuron inference is malignant\n",
            "Ground truth is benign\n"
          ],
          "name": "stdout"
        }
      ]
    },
    {
      "cell_type": "code",
      "metadata": {
        "id": "oSWdQAVFpJB9",
        "colab": {
          "base_uri": "https://localhost:8080/"
        },
        "outputId": "0a46d907-d56c-4834-fba8-34b024d094dd"
      },
      "source": [
        "b = 3\n",
        "\n",
        "Y_pred_train = []\n",
        "accurate_rows = 0\n",
        "\n",
        "for x, y in zip(X_binarised_train, Y_train):\n",
        "  y_pred = (np.sum(x) >= b)\n",
        "  Y_pred_train.append(y_pred)\n",
        "  accurate_rows += (y == y_pred)\n",
        "  \n",
        "print(accurate_rows, accurate_rows/X_binarised_train.shape[0])\n",
        "  "
      ],
      "execution_count": 87,
      "outputs": [
        {
          "output_type": "stream",
          "text": [
            "321 0.626953125\n"
          ],
          "name": "stdout"
        }
      ]
    },
    {
      "cell_type": "code",
      "metadata": {
        "id": "wWdjFjC4qCmu",
        "colab": {
          "base_uri": "https://localhost:8080/"
        },
        "outputId": "fd077636-b595-4e05-cd31-e6c53763c735"
      },
      "source": [
        "for b in range(X_binarised_train.shape[1] + 1):\n",
        "  Y_pred_train = []\n",
        "  accurate_rows = 0\n",
        "\n",
        "  for x, y in zip(X_binarised_train, Y_train):\n",
        "    y_pred = (np.sum(x) >= b)\n",
        "    Y_pred_train.append(y_pred)\n",
        "    accurate_rows += (y == y_pred)\n",
        "\n",
        "  print(b, accurate_rows/X_binarised_train.shape[0])  "
      ],
      "execution_count": 88,
      "outputs": [
        {
          "output_type": "stream",
          "text": [
            "0 0.626953125\n",
            "1 0.626953125\n",
            "2 0.626953125\n",
            "3 0.626953125\n",
            "4 0.626953125\n",
            "5 0.626953125\n",
            "6 0.626953125\n",
            "7 0.626953125\n",
            "8 0.626953125\n",
            "9 0.626953125\n",
            "10 0.626953125\n",
            "11 0.626953125\n",
            "12 0.626953125\n",
            "13 0.626953125\n",
            "14 0.630859375\n",
            "15 0.6328125\n",
            "16 0.642578125\n",
            "17 0.6484375\n",
            "18 0.65625\n",
            "19 0.6640625\n",
            "20 0.671875\n",
            "21 0.6875\n",
            "22 0.701171875\n",
            "23 0.724609375\n",
            "24 0.755859375\n",
            "25 0.78515625\n",
            "26 0.818359375\n",
            "27 0.845703125\n",
            "28 0.849609375\n",
            "29 0.814453125\n",
            "30 0.759765625\n"
          ],
          "name": "stdout"
        }
      ]
    },
    {
      "cell_type": "code",
      "metadata": {
        "id": "_S7f6ypzuufw"
      },
      "source": [
        "from sklearn.metrics import accuracy_score"
      ],
      "execution_count": 89,
      "outputs": []
    },
    {
      "cell_type": "code",
      "metadata": {
        "id": "sra9X-duuUVV",
        "colab": {
          "base_uri": "https://localhost:8080/"
        },
        "outputId": "de74ec6b-831f-40db-e7a6-88b5420f5070"
      },
      "source": [
        "b = 28\n",
        "\n",
        "Y_pred_test = []\n",
        "\n",
        "for x in X_binarised_test:\n",
        "  y_pred = (np.sum(x) >= b)\n",
        "  Y_pred_test.append(y_pred)\n",
        "\n",
        "accuracy = accuracy_score(Y_pred_test, Y_test)\n",
        "\n",
        "print(b, accuracy)  "
      ],
      "execution_count": 90,
      "outputs": [
        {
          "output_type": "stream",
          "text": [
            "28 0.7894736842105263\n"
          ],
          "name": "stdout"
        }
      ]
    },
    {
      "cell_type": "markdown",
      "metadata": {
        "id": "nNPjMZiwvwp6"
      },
      "source": [
        "# MP Neuron Class"
      ]
    },
    {
      "cell_type": "code",
      "metadata": {
        "id": "nmqsH4TKu6YA"
      },
      "source": [
        "class MPNeuron:\n",
        "  \n",
        "  def __init__(self):\n",
        "    self.b = None\n",
        "    \n",
        "  def model(self, x):\n",
        "    return(sum(x) >= self.b)\n",
        "  \n",
        "  def predict(self, X):\n",
        "    Y = []\n",
        "    for x in X:\n",
        "      result = self.model(x)\n",
        "      Y.append(result)\n",
        "    return np.array(Y)\n",
        "  \n",
        "  def fit(self, X, Y):\n",
        "    accuracy = {}\n",
        "    \n",
        "    for b in range(X.shape[1] + 1):\n",
        "      self.b = b\n",
        "      Y_pred = self.predict(X)\n",
        "      accuracy[b] = accuracy_score(Y_pred, Y)\n",
        "      \n",
        "    best_b = max(accuracy, key = accuracy.get)\n",
        "    self.b = best_b\n",
        "    \n",
        "    print('Optimal value of b is', best_b)\n",
        "    print('Highest accuracy is', accuracy[best_b])"
      ],
      "execution_count": 91,
      "outputs": []
    },
    {
      "cell_type": "code",
      "metadata": {
        "id": "FSBMAb9iw8Gg",
        "colab": {
          "base_uri": "https://localhost:8080/"
        },
        "outputId": "9a8812a0-0cd5-462e-92bb-edced886cc37"
      },
      "source": [
        "mp_neuron = MPNeuron()\n",
        "mp_neuron.fit(X_binarised_train, Y_train)"
      ],
      "execution_count": 92,
      "outputs": [
        {
          "output_type": "stream",
          "text": [
            "Optimal value of b is 28\n",
            "Highest accuracy is 0.849609375\n"
          ],
          "name": "stdout"
        }
      ]
    },
    {
      "cell_type": "code",
      "metadata": {
        "id": "DLbCuv4XxB5a"
      },
      "source": [
        "Y_test_pred = mp_neuron.predict(X_binarised_test)\n",
        "accuracy_test = accuracy_score(Y_test_pred, Y_test)"
      ],
      "execution_count": 93,
      "outputs": []
    },
    {
      "cell_type": "code",
      "metadata": {
        "id": "v5xRz_UTxPer",
        "colab": {
          "base_uri": "https://localhost:8080/"
        },
        "outputId": "26f34282-871e-42bf-e0dc-67c489cb3cf3"
      },
      "source": [
        "print(accuracy_test)"
      ],
      "execution_count": 94,
      "outputs": [
        {
          "output_type": "stream",
          "text": [
            "0.7894736842105263\n"
          ],
          "name": "stdout"
        }
      ]
    },
    {
      "cell_type": "markdown",
      "metadata": {
        "id": "OdMOCKAvs4JO"
      },
      "source": [
        "# Perceptron Class"
      ]
    },
    {
      "cell_type": "code",
      "metadata": {
        "id": "zpMzDt5fwtcE"
      },
      "source": [
        "X_train = X_train.values\n",
        "X_test = X_test.values"
      ],
      "execution_count": 95,
      "outputs": []
    },
    {
      "cell_type": "markdown",
      "metadata": {
        "id": "Qd_HKoKnu66i"
      },
      "source": [
        "$y = 1, \\mbox{if} \\sum_i w_i x_i >= b$\n",
        "\n",
        "$y =  0, \\mbox{otherwise}$"
      ]
    },
    {
      "cell_type": "code",
      "metadata": {
        "id": "rG0tKLsUxQ9b"
      },
      "source": [
        "class Perceptron:\n",
        "  \n",
        "  def __init__ (self):\n",
        "    self.w = None\n",
        "    self.b = None\n",
        "    \n",
        "  def model(self, x):\n",
        "    return 1 if (np.dot(self.w, x) >= self.b) else 0\n",
        "    \n",
        "  def predict(self, X):\n",
        "    Y = []\n",
        "    for x in X:\n",
        "      result = self.model(x)\n",
        "      Y.append(result)\n",
        "    return np.array(Y)\n",
        "    \n",
        "  def fit(self, X, Y, epochs = 1, lr = 1):\n",
        "    \n",
        "    self.w = np.ones(X.shape[1])\n",
        "    self.b = 0\n",
        "    \n",
        "    accuracy = {}\n",
        "    max_accuracy = 0\n",
        "    \n",
        "    wt_matrix = []\n",
        "    \n",
        "    for i in range(epochs):\n",
        "      for x, y in zip(X, Y):\n",
        "        y_pred = self.model(x)\n",
        "        if y == 1 and y_pred == 0:\n",
        "          self.w = self.w + lr * x\n",
        "          self.b = self.b - lr * 1\n",
        "        elif y == 0 and y_pred == 1:\n",
        "          self.w = self.w - lr * x\n",
        "          self.b = self.b + lr * 1\n",
        "          \n",
        "      wt_matrix.append(self.w)    \n",
        "          \n",
        "      accuracy[i] = accuracy_score(self.predict(X), Y)\n",
        "      if (accuracy[i] > max_accuracy):\n",
        "        max_accuracy = accuracy[i]\n",
        "        chkptw = self.w\n",
        "        chkptb = self.b\n",
        "        \n",
        "    self.w = chkptw\n",
        "    self.b = chkptb\n",
        "        \n",
        "    print(max_accuracy)\n",
        "    \n",
        "    plt.plot(list(accuracy.values()))\n",
        "    plt.ylim([0, 1])\n",
        "    plt.show()\n",
        "    \n",
        "    return np.array(wt_matrix)"
      ],
      "execution_count": 96,
      "outputs": []
    },
    {
      "cell_type": "code",
      "metadata": {
        "id": "rYc6A9E2wrns"
      },
      "source": [
        "perceptron = Perceptron()"
      ],
      "execution_count": 97,
      "outputs": []
    },
    {
      "cell_type": "code",
      "metadata": {
        "id": "R4IcxePAw49U",
        "colab": {
          "base_uri": "https://localhost:8080/",
          "height": 286
        },
        "outputId": "08994e14-36e1-41fb-acb5-712f752fda52"
      },
      "source": [
        "wt_matrix = perceptron.fit(X_train, Y_train, 10000, 0.5)"
      ],
      "execution_count": 98,
      "outputs": [
        {
          "output_type": "stream",
          "text": [
            "0.94921875\n"
          ],
          "name": "stdout"
        },
        {
          "output_type": "display_data",
          "data": {
            "image/png": "[encoded data removed]",
            "text/plain": [
              "<Figure size 432x288 with 1 Axes>"
            ]
          },
          "metadata": {
            "tags": [],
            "needs_background": "light"
          }
        }
      ]
    },
    {
      "cell_type": "code",
      "metadata": {
        "id": "u76oalfOxQWV",
        "colab": {
          "base_uri": "https://localhost:8080/"
        },
        "outputId": "b77a1a39-e510-40b8-d8b7-8846ef478381"
      },
      "source": [
        "Y_pred_test = perceptron.predict(X_test)\n",
        "print(accuracy_score(Y_pred_test, Y_test))"
      ],
      "execution_count": 99,
      "outputs": [
        {
          "output_type": "stream",
          "text": [
            "0.9473684210526315\n"
          ],
          "name": "stdout"
        }
      ]
    },
    {
      "cell_type": "code",
      "metadata": {
        "id": "e9abrgoW-GlS",
        "colab": {
          "base_uri": "https://localhost:8080/",
          "height": 265
        },
        "outputId": "4a2af72b-8eee-44a3-9d4a-2e165d0ca455"
      },
      "source": [
        "plt.plot(wt_matrix[-1,:])\n",
        "plt.show()"
      ],
      "execution_count": 100,
      "outputs": [
        {
          "output_type": "display_data",
          "data": {
            "image/png": "[encoded data removed]",
            "text/plain": [
              "<Figure size 432x288 with 1 Axes>"
            ]
          },
          "metadata": {
            "tags": [],
            "needs_background": "light"
          }
        }
      ]
    },
    {
      "cell_type": "code",
      "metadata": {
        "id": "0q6wRNeO-PDc"
      },
      "source": [
        "%matplotlib inline\n",
        "from matplotlib import animation, rc\n",
        "from IPython.display import HTML"
      ],
      "execution_count": 101,
      "outputs": []
    },
    {
      "cell_type": "code",
      "metadata": {
        "id": "6k8JZKSr-oeK",
        "colab": {
          "base_uri": "https://localhost:8080/",
          "height": 269
        },
        "outputId": "9ee5fe48-3bab-41ee-8f49-ef3a5294264d"
      },
      "source": [
        "# First set up the figure, the axis, and the plot element we want to animate\n",
        "fig, ax = plt.subplots()\n",
        "\n",
        "ax.set_xlim(( 0, wt_matrix.shape[1]))\n",
        "ax.set_ylim((-15000, 25000))\n",
        "\n",
        "line, = ax.plot([], [], lw=2)"
      ],
      "execution_count": 102,
      "outputs": [
        {
          "output_type": "display_data",
          "data": {
            "image/png": "[encoded data removed]",
            "text/plain": [
              "<Figure size 432x288 with 1 Axes>"
            ]
          },
          "metadata": {
            "tags": [],
            "needs_background": "light"
          }
        }
      ]
    },
    {
      "cell_type": "code",
      "metadata": {
        "id": "h7-kujHh-uSc"
      },
      "source": [
        "# animation function. This is called sequentially\n",
        "def animate(i):\n",
        "    x = list(range(wt_matrix.shape[1]))\n",
        "    y = wt_matrix[i, :]\n",
        "    line.set_data(x, y)\n",
        "    return (line,)"
      ],
      "execution_count": 103,
      "outputs": []
    },
    {
      "cell_type": "code",
      "metadata": {
        "id": "kzXVRFJo-xwI"
      },
      "source": [
        "# call the animator. blit=True means only re-draw the parts that have changed.\n",
        "anim = animation.FuncAnimation(fig, animate, frames=100, interval=200, blit=True)"
      ],
      "execution_count": 104,
      "outputs": []
    },
    {
      "cell_type": "code",
      "metadata": {
        "id": "Rphin0gy-0Dm",
        "colab": {
          "base_uri": "https://localhost:8080/",
          "height": 309
        },
        "outputId": "0975fe32-b2cc-4234-8d5a-38c3ac319e9c"
      },
      "source": [
        "HTML(anim.to_html5_video())"
      ],
      "execution_count": 105,
      "outputs": [
        {
          "output_type": "execute_result",
          "data": {
            "text/html": [
              "<video width=\"432\" height=\"288\" controls autoplay loop>\n",
              "  <source type=\"video/mp4\" src=\"data:video/mp4;base64,AAAAHGZ0eXBNNFYgAAACAGlzb21pc28yYXZjMQAAAAhmcmVlAABnW21kYXQAAAKtBgX//6ncRem9\n",
              "5tlIt5Ys2CDZI+7veDI2NCAtIGNvcmUgMTUyIHIyODU0IGU5YTU5MDMgLSBILjI2NC9NUEVHLTQg\n",
              "QVZDIGNvZGVjIC0gQ29weWxlZnQgMjAwMy0yMDE3IC0gaHR0cDovL3d3dy52aWRlb2xhbi5vcmcv\n",
              "eDI2NC5odG1sIC0gb3B0aW9uczogY2FiYWM9MSByZWY9MyBkZWJsb2NrPTE6MDowIGFuYWx5c2U9\n",
              "MHgzOjB4MTEzIG1lPWhleCBzdWJtZT03IHBzeT0xIHBzeV9yZD0xLjAwOjAuMDAgbWl4ZWRfcmVm\n",
              "PTEgbWVfcmFuZ2U9MTYgY2hyb21hX21lPTEgdHJlbGxpcz0xIDh4OGRjdD0xIGNxbT0wIGRlYWR6\n",
              "b25lPTIxLDExIGZhc3RfcHNraXA9MSBjaHJvbWFfcXBfb2Zmc2V0PS0yIHRocmVhZHM9MyBsb29r\n",
              "YWhlYWRfdGhyZWFkcz0xIHNsaWNlZF90aHJlYWRzPTAgbnI9MCBkZWNpbWF0ZT0xIGludGVybGFj\n",
              "ZWQ9MCBibHVyYXlfY29tcGF0PTAgY29uc3RyYWluZWRfaW50cmE9MCBiZnJhbWVzPTMgYl9weXJh\n",
              "bWlkPTIgYl9hZGFwdD0xIGJfYmlhcz0wIGRpcmVjdD0xIHdlaWdodGI9MSBvcGVuX2dvcD0wIHdl\n",
              "aWdodHA9MiBrZXlpbnQ9MjUwIGtleWludF9taW49NSBzY2VuZWN1dD00MCBpbnRyYV9yZWZyZXNo\n",
              "PTAgcmNfbG9va2FoZWFkPTQwIHJjPWNyZiBtYnRyZWU9MSBjcmY9MjMuMCBxY29tcD0wLjYwIHFw\n",
              "bWluPTAgcXBtYXg9NjkgcXBzdGVwPTQgaXBfcmF0aW89MS40MCBhcT0xOjEuMDAAgAAAEWhliIQA\n",
              "Ev/+963fgU3AQO1rulc4tMurlDQ9UfaUpni2SAAAAwADlGX8OsidmA88y6GZ/02b2g1gjvLH4xTy\n",
              "2fmUGzfV9ZvyIPYmqrCcmekF02fBENtN882c8j8QE2tyBs1WnoR/slNLhn5TRelWS/9cLLoFcr7H\n",
              "HJ7V73RnK6L+vkur0JyIhZgaXyn/gq2d+r2IkXF/g+83w+AMa+bWulIQAAAYByXzwH/pSc3EK3DJ\n",
              "HrSjkvXOhRXq9XPKf8BRMbnZ+5aMyhKsdTA8008IUQsnFZBA5VnZ+azPkbt3VqPcE88+IAeDC0Ql\n",
              "1zYi+Y4PQdsPYL3USLhQBDI2eLfTL7SjsHVO0jcEguKgQFQ3Lfbo+rSx7e88L6cQHv/0GhxAmn0G\n",
              "ZKPyJfVg+xKtqSLidd/vU6faKI4d56jR0yMDhixrUZJfJwjSBn/AYhk+sbowmpDkaVbH8QKkrtp9\n",
              "lt4imkjEQ9HX8R5TEBBwirbj8CSsWugGUbys0uTNNBh+d81pQq+pWjUGvHAJZEfzK2J/G8B6HE3I\n",
              "cyZngvU6mStBsImOeIcksqQuv5ao07qY4Llmxk1pgYFAAFUBNihPSOaxTmQccgGtOe74j57bmQc+\n",
              "HZR2lmrNLvYz337Ns/RBoR4NaOuLxMudvX4H07YBF9lDd+TBQ3cdc5TYoxhoFGsOOlOMJ2prXqog\n",
              "wSmOIYcQY+6k/xzX/BTo/T/Ovufd2329GTSfYXzMf427JvVx2tXHbX3h8C0oPFsa8Z+zl+KaLECv\n",
              "zC87H1LIHBkX9WtKT9DPUMAb3Qf177/YAAbqi3X9OdQnaWA5AfKhhSBpB6vkU6XqrlapL55qVqDj\n",
              "jT5VU6y2t8mtItW2CCbBaiw2vcywYa59cd/aABZAsnD8pEmHcs/YVDWAh2I1AACBtZe2oJD80b16\n",
              "TBpWSCjcFuU3eANnkh+cAz+CvyaPc9yjKWOEGYu+tiLCqnDZEXMoKDjlBZ93KxSxKugKSsWj5sbO\n",
              "oesbjDs2XZVTRfvm1sd8/QBnEeA3MkBx01XeWB/7nwMbdOAbIptFb6Xn0Jz/2fOlAQuXgQ2QA9DB\n",
              "HfipWSH77RYMWkhkFMqaRGOrIllkS+j3Na4VeNmp7uBLQ+eVqPUt39L4aQYfQwiGdus56wl9dRfk\n",
              "39h8H+AKtpxXJQTo9gJRiQ7huISb/OA88l/agi3mJuNRYIOA5FzFT249criAdK6Lt4bDE7z49/e1\n",
              "PQPQYRmp3NOq1SVu2xGBiI+fv5QWkyrUM1YV1eaG8KHFc0BJa1ukrrZgXX4mfEFk8uJvBtvJi9ug\n",
              "4XzqbFl7Zq9pYYK6yAzGfDsCjrvJN+GnvHyAh4z+QzhdFtt7fVD1zvhTEsT3zoUV56QJ/55GZG6N\n",
              "htZlLGbg+behOxiuMVtSfF2nNXzRZjgtw8gh8LmOmI7Z4mFQgQZJ124Gqqk3rsJgQW3+nhLqRE3w\n",
              "4l/KHI7VoAIhOJvTKoLhZHwwtogQQUdevF4J8wsd6SmckOyoxtUc5l9cdJ8aAPjawYWANMcJvvdo\n",
              "2wkxCdFLZRwH5vlsaC5j8ScKmaqi5F+gDi4H8ZrNo8SZfWxbDj32axvYS1SwWjJ4i7tAxoW/UmUG\n",
              "EP4OwfYgAAAGtOKswhT5bDm2szbLIKbSCQkaVcHaj3sZCIzWOewGXAtzUggifdj/HDphk3npHxTm\n",
              "/UZXR4RrUzpDtV0FVgmXjdlkJEfLmRc6EauwibkDAAAO3C9OXJLdAiPc6rhSZOJ2J1sVDO0pBO1N\n",
              "XhQzy+CJ03X0Pp198Wjv7ime/bZ5hYfyGrk6TVf5n1/2wKs7eEtEOzsnNRH9zikEvQ+E4u0SWy/H\n",
              "2qs0Q+lon2Bjh5zaK//eEyUcsxUbeD0gGjCzUHxUIaLUO7YNMCquRhO6AOVUxiwsactoeBYt4M1p\n",
              "jivdp2M3zZbW+ohcKyrtghdOQITUCo7VkHRWh5f5q5LZcHa85xj7bwQ8ntOn3oYDZLRNuk1w91XT\n",
              "mWwOqtibEhbarnfLpi9hlt2vUSDsDSTXTfSNMxVk4j+tovPcZYHw3gU7uPGeDCPFEEM6SO8HSrGP\n",
              "qk3rL3BeFnFjtbL2c/O/jXnINz8Io8LkNS4nMBgqt0s2bl9goqFdCqcVxAqGeenW8U7lk2/0j0jq\n",
              "Hg/yArUWLlo1vfzLQtx1QcVyYYW0AbcSeRiQTJlsTbXd+60CvJnv///1mv93MyH8cEP8LReVUhqR\n",
              "5cYkHW7nVhvMKV8+dPP3pED48DsxETKnbhHId6fp2x6+v/gPcxMGzvjGj2axCeu57/QddbM/nNmT\n",
              "mcVNkWel0g47vVfraT9X+PFQ2goEOvLGAfQqJB6dN7L/s13dTCReGpKYMW1PNtlirXoDOUUD0qln\n",
              "39YxUn62VQpMqyYm/8R6EfOp5XjrEuRdvVWKtl4MXZRSK5g0qhpwdT063xtLoZsTaqJJEXDdFpVw\n",
              "XUUV4coA1cEtQVCrTowRJpSctZOYtZpq9oRgLcgc+tSqAUROZIbVMbPzi2CUudZA6l0S4TD+wRvt\n",
              "t06E6wlEdvNbKbOPZe1koYoUK0LZtfIvPE+3qDafBv0mwsKn8/arK9T7rJGOOlfJw5hZ1/807QQz\n",
              "Yk702P3rwmryXhaDTYaYwQaRx8O60YZZ38o6j4yvTpJQ/eRTe66yMXSu1369Rn+dcN+L5No0yjjs\n",
              "Z1CMwWJ1Sh4upPXwvxr8woJG+iojp+27/ILix5lKFnJ5kj67p0RME8q7aj5Es9tHr46bPbPL5phR\n",
              "nuM2Iea0CRyZ/41IjBczEUOt1iMFSh7g5nZUFTeC5o6Aa30hCD60GnXn6vHs3aHNLdBKricdFOHP\n",
              "blTyCznjm44stHWLu8RoSoGxXA01gzwfKKa7y23N9D7AdEzijSUsByh1e5td3M103UxgLqmDTD2z\n",
              "K46hvXR/+qrJz2u/9qnsLZOrO6kYNUrYoLzVWXPmEPa0Lj9V6UJMWVXOESQz9yZfTE+x3q/Lqn//\n",
              "/8SBTjp8XfjcS/aR8YqrVey8w7TtruBkjd1jmXQEagUw0LtmXPJUAA/6fP/QS5DVcck5xNP+CzW0\n",
              "ve3kpOR9Ka9bu9thF5kzpqXwlOa+TnR2T+jVJokhOwcKMBZVdYFGO/lHZA2vbJzVHl5wnioyPWzL\n",
              "2lw2xBIoOxEICpIi1uW7Zl0PZ+ooS8tGk39xwENnqjS7O3ugGNhmWCuxaikDt+o+NZuI9kBym3gi\n",
              "h2AKUoBvFgbX9npCv7H3V/J264OragR5ItRpQeW57xvJwh1GL1RYZrst8qywJUsiH3AsJcmrQSyL\n",
              "vMppbLY3vZKR9L5+PPQq1T4K644iOn11mmcihaZadSkrMhsxFYbUJ0AKN50q2Ya7Wn0uUQQFV5mM\n",
              "Byd264e7kcv2uYK1ud6qyopNtUGheNKDgyZBdvQCrn2Li2ySujP+W/cNbHLUiBgHLjnfzjY/OPO4\n",
              "99/53Ckm0O8Xz/7SN269ZKtlPYKahcecMi5zKSysIP5uHUszpzZYIVdnX/pJWWCdku7YcJluFt/2\n",
              "XsteCcXT2DKA6TqrnNYA2EhWXv88ixiFn/yOzwq+heKnuabLiB5Wv2tYwZ59XRRRWAEYftif+dqj\n",
              "I/zaJahZYXHFkJA0JEg+0Z+wuTFcC9T6mEXH2mpHTRkwcNC6PCF+CfeLFHQGZDPcq0PQuGt8rSLG\n",
              "4QGeik4X8IoFFc0e1/E9u83dpjiEaw+FD/XWEVQxxXo3VJVG+UKkBnML7dWfYF3Vz6tvNbRXE36Z\n",
              "/xZJLU1NchhIAoUA1kCbrepiqoFQc4J2K1KC/JYUKoqRhlx6wFsvlU9RpvhZxA4mq0DFTY8nicV3\n",
              "n2XhJUtr2UPC9FVpMD+ucw/pJDItCgCKxHO0jBkwgbIJsvs0UywQjDNO5CVwHLVFlbgVfZrRormZ\n",
              "3qASsWQlB/SEQWG7m7qQpntMXuABGYM2XQCP+VEN4jXTiLrTK7S1Zrg86HlmmjTBbI29D3OWXDu4\n",
              "q3Q8hxvTKNzUleambVMJXYBJxi2/nZq89Q9ZUp2pcc6/uXCdT2PYXDnfaNrr97PdvnnKDZw2xMLT\n",
              "HaD7mv7CFz2MOq6hI4V7cCH8VjBOqKP8zEZtGofXfevXLXRLbTXFhAABWRTLVT3+SQZMzr89d5/0\n",
              "lI9HxO6chBTC/Bth0m6ON8q8OZGkDpBYCcZ4pig31WknewE1EjPlKcCtdUB/xC6oL5OXMtNYog5q\n",
              "6FWHmaWCLJPK6y4jw6m+kt4malugNS/H48ylGeJgyk2dpR0BevtatC3jqmyRaNpOE56G7i28ISMy\n",
              "8+ac2uRFE0HgtcsrfiuMxnoboMXezdhOxY7NsL6ebFCSpIygdJXKRtov7DCSubfaridsuJ4W/m8R\n",
              "SQZdUYBmSjeDz2iXUw9JSPSo17Fpb3vLIZSlCBzBn+pB72BZScj/9KK4H5BHxjsp59b4yvozZ8jm\n",
              "qKKMe/dHa/xngXn/wAcejgX+Ji0y8OF8TZhk8APbjZFNsL3rIv5Zlg7qNsCQHDviAidmxizvqzwY\n",
              "flYeE073X+RFaSnIizmdaFJ4pq1oqxoitnfax0V5zeEJQDpOSQlxkL0d8UoywnJGL0I9ljixcQ7M\n",
              "1lzAbxJ6R75h4KEMalNgteRCfen0d04PXymewDj2unY9hodZPdvgU5ISbkyZb5g/+SmTciB6LDqu\n",
              "tkSRM90tCJQK6fRJvN1dBz+aeq95xIt6ffKvZh/5CqSpOBh0jUwH198qrJK+TOPcxumLxhKI2BMg\n",
              "Zj7v83Anr2kWCvO2G+c2qoenfbX2PiLiLHGdwqVHnArcnakk9O+oWVnWkvZ9KnxjkGPRtP9gclbO\n",
              "dH1eAcQMeegzJvARZt2D3JWpwmVZS+EpI36Se1+McrFrjBeOjwIRkxd+e7ZtXGMFUSEouvCH8yQP\n",
              "nnV2pu5mrpjrJbOOKAJlOVXdYrtPFKTVLvSdXY/YQ3EgBE/9n0Ywv8X8kn6fhbqjAS64r9mMfmtA\n",
              "w3pxz+IMtzjQtJy14AGOf5xp91y9dOOgzPnBdZIxhwq5a1qs0l3+7kpvHjKloKRxR/xC8G4hKH8U\n",
              "8mzsf+PmvHstyxVAgCo0JtmGQWsvuKaHR5HYLLs7/3770T01rACp5dIxh3FbTXr0YPuF7x2JomIT\n",
              "7T+AaLjP9bG8sntfiPWr+1jcxU0HXVAe5bR45ESa+oYGA+FfNWD5wzrWrR8V+OyyuqbYw05HUyt+\n",
              "zsk30RYBwzw5QYSSUjC7gID0Ewq+YvlfiVyUHEToeNBPnqxA176rufspa0kHwM6vq+w+wHy+2Abd\n",
              "l7CEy5ePyMF/c4igSUYfwDOpaLpSVwlHN60M8TXr8ph5UWxti20xV75NEsJvrGKofKAUPP6hRZzx\n",
              "DTu6S99n766T2ObG/tOdQW3Ty7bLPwhKWnu6BiN/5VkYRA4uIoYbjN5a+4HmWqXxHZlUQclPytEC\n",
              "KGIoXmRQV8/aqrBwJXFNPZ4CeHMmL9NVMRk/cpr6vOB9ciqaOxOQyM+XlUdo8NRwY3cWFmIu9XzB\n",
              "0QlSF2za6eQC5bfNdXfeJf2WWerlX69vjGhqOAQ3TUYj2fBk3BU0DFydbkxLPlVD/vvEgf3evbS6\n",
              "psOEiwrDwC+gKvN32Rx/+r6aYm7S7eQu8sqNg1DO0OvacJW5qwGSHdz1CvI9RDxk4XE8zZfYVaoP\n",
              "mUSEk1fSbsuyZdBXcdat+u4JJFcg3q2ZR1irQsRwuw6stTGbkib7Fl4MAaOj1lkrArmmhn5yAcgj\n",
              "5B7JbSuEn6saW+v8gvn0124miUzL8TT4Osy9LtvDtdcBtKQTHeUe2XcBLblq9/vZ+cIDrM/Ka6V0\n",
              "anp8IUS+1/riuwe92KlQXzrNFPJDjuJUmUwP6XFRyEU68KeDpBcgwTs71CQaO6MQENBhdn0nZcHj\n",
              "7pp1gi4o4w/0qz1ae/RE+QxirvXN71RkHVJH7ChtyzqepSCa3pAD4p7fbFiW+cuts4lcAj8dAAgo\n",
              "sGuAAGBBAAADTkGaIWxBP/61KoAijX04AGmJ3gruh08tc07k2jer0StMEzBwY4MjANk7grh/IsTP\n",
              "9pX/4+h0O66FDnjDNotpjyO5RivQdLXHIBgytvEJ5/daxWPYo4mNSycSB2MF7a2TyGITIlyWQ/jU\n",
              "K6W95+mMnsc89yBsYZfscAEq+318tGP5+L5ZbhxuAE3xbk3gfuzL3WDeswbks0X1bj0743X2hQI9\n",
              "EeQ9L/Z1YxvigKLmKYSsq0PJjvILxvCqKACI4xuLF2nEToTj0jgPwoU+q0sYGl3DKb2M2FCtgQNM\n",
              "fTUcCAcSSGu2/mIAL79wYD8NB+8TCf1WglK+iiM089gLe3s8raR/udpTvfZNmileQi2b4gk1q5oM\n",
              "sHmWrmF6wHyDPA41PrBwZ99FAr39+qAogAr2j4/G5LWcDd1SaissV6Ie8TNO8TYNmIzToaDQIpLe\n",
              "vvEyB6zsTkP6woGr+41/VZKqNnFgt97BXa6ZzjrqMlzC1bsgCMnUqT6ZtAVagAPiUY6bTer38Pzo\n",
              "sR0gFIQV6xYRabmwKBYuXayZ5GYfIY0NY2pE6P0ZicbfNBZoPydMV4sO4m0EuUQJJZ7PiSwGiekN\n",
              "uqBfD7q5AbR2zrZBVQfE7z7LdSp/eeEE9NO9OYXDJSoiji2BvSqRGTPT6x9s/XeeFIKScvIaa+Vh\n",
              "/VUi08pD5Pe3I59TMzlemkrxIZGhKNWpe9qpLNACQDBCHk/hRo3FMyUyM5CraNaBVxwnWqDFLfmp\n",
              "JPnQwP7d58/P2RfTHdG68Wu8VTf2FJIWR2yK2WA25fAP+bSdbIdavA7mYW9WRxbMiDThDVRe9MDB\n",
              "hDfwbSPF4BGLRWv5c4uTxKlh2BANEUkqLE1QZlMKR59SDDVtSGMSjgzabrCNZnrDKXz/1exsoiZW\n",
              "OLAqG1lZt/nnxlGZlXMDRtUvOQkShICiXSZJhk+zZhxyOl9h8d3Wio/sOyDtS/yOrjToRo670J5j\n",
              "ERoSt3sxTUwD6eK0wvCXCWM7dtPWOsu5R0UfL9QT2MkMrvqDsBNFyW4pRFFjg+hb+YylEkm0/ZnU\n",
              "FuxoDe+QgAZ8JUngZVcHs0RjENUTPmv/st/QHe7T/rRw7z/HEEnhp/ak0qmUym67TnncdgMHQOQV\n",
              "cAAAA3xBmkM8IZMphBP//rUqgAA3k6OxTAyjt0ARk2YLOIRLDTlaJsZ9Zt4JVARMxMbUYGFACrQh\n",
              "GoCewDhhVbnapPlIwUHJG+t8dHQKPXl6Wwd5ckhguUuu38cUDX537STVAJ6C6LTxvRA3BUN1H8xw\n",
              "XiofgzqF89iZyK1u1veVWTlBC+H+Up6ckvEoz4Y3xHJ6QSMat/zCEWwERIWG/DB9j6r28SRPyo5r\n",
              "bWOElPWcCYgNHfYiZbIR4pruMza4XtD1kHFjdmkxC4ulg5bqxrHMwh+9q+8n8K81+62/iRd+OFZe\n",
              "sRrBLXtxLj8s2rNnKxxoRK2rXuTs59s1P37tIrnUP6hwjbUHEtwkaVBM36tB67g4p7G5RQ96e1Pa\n",
              "2XRQD3JH81GozIqZIGV91jpZbIJFD1vVqE8A+HxLDteKwMGpMRibDTDKKlEyVlf+5y1fGJzdWZp4\n",
              "4PYkwPzmW9OamXK1lUsWy2GEZa4+35jlnf2bUbEtnui2Sd4BxXEeRxkZ1TGb6wjKQk2VIFm2y1XS\n",
              "TnAPAoT9k2SvX4+EqM9wR6QA5bG0jhOTcL+j7lTPZQh6UtuWu9jw9AgDdxTZoOirZdCWdYT9jFrJ\n",
              "FAY8LEpZxiPJcnZmDSdHJXRdz2G5b7OBPw2A7OUuS1UWR+te1d9lumfNIROchU/a23te25+HXq9O\n",
              "AdVIKWxINgx+/qcMOQwZs4tjJC7ucYspKIlZZkC1w2v+sGb1UhQM5L3sYwpmhJie2WjcLnSMWcmO\n",
              "baEPxE+e9GZCD2AD5dL+8qZT477hGBSbjP9GEM9IA2WO/aI1bHqGKUvEC0WRelPAZMggt6Yuh8nS\n",
              "pnBJhD2ll6RtEypGoZt08XPRgm4cp0GlIbMZkhMSJ9Eb/eeSMxeTVLcDGRZAtkumY84iPt6MZ3G5\n",
              "8oBzGJM6gOlxtQ71oD/u1Stf56Ca3WGhNJPveB0Iq0SqEYj/C9AcG7IzNf+nTcMuwfFIUXPLuSFC\n",
              "LvbxsTv8re2Czfk+RGmTDGfSfdLMgCVqZT8t7ioBiIAEaD+y2fcyVMPkhOxQ+aKgC1w/wIf+Aznr\n",
              "LTOf0H8wmJdT6Gcx0z9IuSLP3M8ZUdIYBby9af9uuR90zY25fvf+OXpFCPyYL9ZjJk0JgEqMeYEd\n",
              "9MS1Oeqt6RO8FX/sxFzD3ofEysig5xeZd7H3DbjvM9jJ1BgIw2XCLhMVAAAAtgGeYmpD/wAKyvUo\n",
              "tiBRgPd2QLgiEAI+/PWXUFNezw7VPJxg8IU8VbgdXW/cflWrIG1cHYjo41nmtdsmVelcoPNen8/Z\n",
              "SUP653axkIooolETOC0wU2a9x6wLL26Oh2uW0y4CPeBUsQh39/7epHo+cQG2wt6I0RW30z4UEn8E\n",
              "pG9DtXu/B2HQYeAcUUGMZB10Ov7jj2jYfny7Hn04Z+oFhweI1KgBxrDVhvlP0+1QL+NnSfxVF+JQ\n",
              "AAACAkGaZEnhDyZTAgp//taMsAAORcP0rAABLLl/gWn7Tt1sAd4zQZK64uk0u3KzZeHJ3+T5ihGG\n",
              "VE/+In//R1/PCkyAp2LDz9pXauB3dOsoGG488nq6umEdMIXgQf2RF9f5FReN+LdCYOHZGYSTGwUP\n",
              "3zNE+/KVuFYpVbBgibcXMHCyltxc1ED6IjaFrU8eg9p+fdjoL+T44bXpQier9kDBNqcZ5iXj91eZ\n",
              "ZgLG+t6kuUgBSY1AjtZ/WqBYt1o3KwpTnZVXNMVYE7kans3PX7SGJVGkDdRKppj6wd8V5VGN1w9i\n",
              "F955mEWbPcG/iYR8hOYatqJ6yr9zlkUFX+BxFjrRw7UD0TGPfwcABX59pKUhmEx/xRuFZdmMoEyP\n",
              "SNdYA4SVuEM+gv1M7vJXgA9EZF5AUmGbwbx8+jLBUPCsFP3x7tuQUFu6nzdHAMC+sqreP8ui/f3E\n",
              "OfnAVquhIqFOyq1NBOpFwSJ25IPMjHrhIWdZQVKTvkhff/41+uM/bSRvlcTZK3wP+UK/24vA2H2M\n",
              "baDht9rU+6aJBexN3GiZIcPBVKxUm3DMlsKNMeP5jPosG5pSjGB3GPPE5Cs7UnRWu5ArkO17ucV4\n",
              "0oJIroPZWwj6k+GAf98i4D2j/SJ99E6yk1TUkl27i3uF7mv7hCHjfYcfd66hKMme12vGQCUvgp2V\n",
              "hgLxa2kAAAO3QZqISeEPJlMCCf/+tSqAADeTNfngWesh7UogAK3o2XRmV6xzyvKO7J/3K0cCY4DH\n",
              "zHWjkQZkj/07V0X1A5fYRwRsDchfdcqoms1P+cIFDB38SuLhz6J2OL9mQXNI0o8gh/FRb+lWT9D9\n",
              "G5sdm+s8pJEQyzSjNLEYa0fdcMEhdXoP95Y2YuGOUzvibqcaz7x1HKZBDOPzt5o7VJHqr0I3q3SS\n",
              "GwsEgclOSij+Rm3QRfYGrBwTNKQd804WlyDmrGYC6yNrQcAmwJMZ9zbhYVmGTfxtVdhJa3EVzIF0\n",
              "F2dEJVyFEaD4Ui6bQUnU3/EWL34mMm+p+5KcghnY99gnYlLGyFLNdrh57YNxUJUoYNsNMc03bxdO\n",
              "Vx2zhSbnkV4IzELud5oMS/D98Kkypl56yQ9KHz2HKwVe8q3qMJuLTuYZ4ReO6p/9pvf9wOGWXlyN\n",
              "9O1J1dIONcEwxoos8O6F7h0PaYBxNIDqxcjncZDZvFeKhWWapyKqQl4BYF6HpfmywNo9ukBmgdAW\n",
              "jKH6cny1NwqKiR0q/o40UeLfSfWOkWUO06UCEZmXsKEWGC25OQUzvmGUTP/PQ8aW836GkBEa/L5S\n",
              "VVj+XpwZsswWdFh5q1fn0vuDZ+RS/hPdW2MlqhfLEqd4TItURzOAaLWHJsc1M9mB4fHBlXntDpeQ\n",
              "sUy/4/vH4+tqFDGC1HVzAcD9waMrDlBY2jI2hZhX1zOq4MS3NW9g1WFTTXv+82tYWFaiiyUBs56r\n",
              "ZPgvS+KEBk8H5mYNk5PNCGQ+lQgX26JpJ6kMUFh2p+l8uvxoS/Lh6RS39DhQ89Co4fjlIHnX1HlO\n",
              "U9IIXjmn9QYpAtNFAIYVEjXABMQAFUR9uFiugudKjfLQ4n8VekY5hkNYloxdfKy/q29PVAPCCw3R\n",
              "9TRpAfj5n4B3GUluaETeaa3yWTaiv+knPVXPnngg186ZUYC9MEI71Bp2JLhwDo7bnmVDFT0+HToy\n",
              "5aGzoI6osmPVV68n0Vy8Wn5bbATTKDfCQRsPGoJxGjPL+mArPbsnxoaCXN/Qopk6AGE4IoL0eRfU\n",
              "osgWqufGqYHGXlkcI9m7F5mcuH3t4XzTxBgK6BEMqP/icfS8VOLJH4N0LJwV/rWpuSLyO5Uk+icU\n",
              "jOBH76cPial8p31HFsNau4KUpYg5ZGBFjSPHE0umBcof6PMSJ3bOUTeywTU6rU8wJuT/8s6Y3moI\n",
              "/RKL+iVc2dZo+0z/z5hkoht07+CufV0GWDc2+hxiXHW8MPVPjHNSQhgzpObPOxOxAAAAyUGepkUR\n",
              "PBD/AAJU40+7EGGQB5UWyZgAtjQPfun0Vk6lscP8d9IAygoOnpPkMppxcSXBic8jC8RwesomOQ/A\n",
              "nkftv4LTZJitl72wRxMPSFNRH2EAEOUZZAwDuxlyGa4EPphug30TNH6DuhQrABKgsp102fGcSjbU\n",
              "HQTpBhjNlI9P+2H4LkkFNt0kN+6n36xDxj+G8c3AzrWi9NzDwkA6tu+aY9ojnEprMSZt9axsjaiW\n",
              "GLFV19ywqWBYm9cW2BWYnl3svysAnAfrGQAAAHgBnsV0Q/8ABUBcCCAirUvexksGhUALI/JjUAyj\n",
              "37i1iYATpsuK9W2i1D84Lm3zzu+R1suLtwXft9VZS2KDGMDSrpbI1SD8FDLp7f6bs/QqHxvYRvHO\n",
              "41eJtIMipC4q+1BHRrIdC8JHaktFGo4RHu/D4PzQh1Zex30AAABPAZ7HakP/AAVBH4YBNhz1+muD\n",
              "nu1okcqJBpD+poAStjSf6Kk1/q96BdSApO0jRYoHSSNpqzcoJKjyWEQABD1eYf4Wc3c9o/vjqZWH\n",
              "xI/7oAAAAuRBmstJqEFomUwIKf/+1oywABx45x6WAKAzm8kOv/tUELEM8L5oNve+VDqlYlwA691Y\n",
              "gIcM+5F7SuubLkJgizXUuTIkSAYtx/d1pXxhiO/Alnt20lBJEWfWkcYcIRddIKRCP/DBxMLvRyiK\n",
              "g+7mX4qh1HViYSPg4vsFQJ2X0lCICmvtCv4/8kw9hxFOeFiu/XP2LNng2EPCuAtlsuZ0xDZNreKS\n",
              "apc8yw94Y8qVfZdIKsLP17PP0CkK+G+znzTqITKR6S7qnW4muS9g6Hx9/oSYHo5oWi0uDxbCFR0R\n",
              "cXY6yAafB//hTNOwg9GBnEUiAzCE036ZC5uhDus5LIKVYASPJ4jl+Vnuhv9GfNZQxXcv5zS8s3u+\n",
              "UXCYc9PEnBXZu/pWqzdFaY5ldX8jJGhxoKk4/+Eq3B1YPzqa0F4isIZ9kPsFFqh5JnialKPzMcdI\n",
              "vaEWveICFxlZDqmKuZj/vTpp8rmTCrE0lzSdG7f+AQ77+FlYUkokmWbL4CeiTQwDgQaqU7UyDj0x\n",
              "i3hqhnhXhE4yVruytHAWNlYX7ZA/LUcEGBDPKD9VVFo4CZKWlZbwS7Xw6rVo1Y8Xlq9MMGwQ2d9k\n",
              "enlvFi+WmMAkN9/4OgniDRx9cllvzjKcd3fDbgjfEw6PzReEhsanZFv1U8Bg9gxDoNVhWpmR1/ap\n",
              "HiLztQVHIZdcRFIasluPs84leSEGPK3dRkh5to8Sn7DOviszAzRDCJTiG5mNIj2FYYIBjYmulyZN\n",
              "8gYbC06b3ERVCgdb7vmfk7tgPdhFJq/kzOPFiQ8PcZSzuTbm/ovtn85fPzAa2EwC6xmiaGc8YTo3\n",
              "Pub4pqkYEP5aBTkBUyOAE3U07Hkhotd3GmcIALBq7nWS4ajMcHWqGSM9CVYASbGi6ReMPy7PG8Sx\n",
              "0THZpCrNTT1EQomC1MAkhtFXw1wO7YMNVs+rWpPofOYMznvtiwIJFhKakuo6p/9ChjKcIwH6OLfq\n",
              "no7bDHXpqwAAAI9BnulFESwQ/wACWtsjy5ehBkTnITr/gKiU+fyXFLfo0iDvjwAJYzUutBmj+B2i\n",
              "b7Ld2bSReZq3ZFFh4oojbfHO3Jnmkf9BTyFr7lh6HVgRX3ojO/aifjAo2SJAOvsuL+spTidN5/50\n",
              "eztlQX0ly6/oT3Y8pdUMaxTVofiPogGJs5bISpMZdvidNCFYm9tJQQAAADsBnwpqQ/8ABUEfhgGV\n",
              "lwO49zZHOaGiJF9DC6InOIAGNg4ters8U6gJps0FYxVWRtzeG3Y01QGblsZ7eAAAA1dBmw9JqEFs\n",
              "mUwIKf/+1oywABx0UgpkICABlkRYdixuHMxnQBYQqs8+bwm8Ch+kBojlrzAMQ2csOEvc5zHoZwMv\n",
              "vZFcRF3b9I3uDCeiz+Wv1seMIvCk2nu6fDqzoLmEJMQgIdLfVroWbIsqq0br9l0xZ3z7YR50/Wi4\n",
              "lQS+BL2Ryzu2D4jgo8b2y0W5JQBZ5XVfAChI1iimMod2C+EZZMlJoCjLym882q3tf97i0MH2p3+b\n",
              "xcGP/1pfvX/L+zqb/2vpVQruGzfLaJKuEba2r5Yf7ctX3nkKYoFL1ClLJ334B7ZVHVPmTxvPmxys\n",
              "/mn0+8lUBVag22AdbyQjj2iU4mVad+2sZ9hbhzdO6GevlnIKO+6BCt1P6pMZHASVmVMH/RyQy9F8\n",
              "oc8RO9e/T+ahAYb9hVj/68petrPKkVov/4XpJtCI6zDGYLZG1NVbnmbI/dcChm4qVcoGZfus+R6s\n",
              "gY+FvmpFt3zMFpM6fUYr+LykEqpQ1r/YBqbYUXJgP/L44gCGDRtWIByEQ7kQm+vdSPDSYz0AkyF2\n",
              "G6mm2ioVhN+m82SDQSAfBwCe5RBfpBsjGHP4wCHIIl1YFpzAoyZEfgoiP9adh4y8FcZcQe+mEMKA\n",
              "s24qK3kAPe0uiA6j4408wecCejc/0sMDWiHdEse/TJ3gg9nN3xL/pD96/V/XU2qb9E09Z/0yTHJK\n",
              "9CGh6lsz8IEYE4K7H8Oy21R64PV0If+YppR2UjWc9wDsT/zR+UKgR73Y5/TUhz0Gkb1kRV1foWCF\n",
              "sOHOYr0edONCZHiu2T+iZstH5rNQtrcMfHCCKPOAg5fftMN1c+i2EJpTYF1x2BiF9G4MyUUKqRtE\n",
              "7rkLPPo3G6Z1SOEGNOxe9WDHoOb95MSWi/vHW3+1RFqP5OPb6VVJtPZxyFJJdBFqN+YtUBQKJ9Ro\n",
              "oFbyRlBZQjuSHKPZX4TYJzn7Xsp2bU0HwalxznaxmuGKrashj3E2o71jaTK1W5/RVyF6DTTFty0+\n",
              "AcwgKK5Va+XZDXVCgN0DGX7DD8eW40XFnrGvxE6vKYiOCeKJFvhLjhtBXmYH43Dsgm/M6XnOY47m\n",
              "NsILkjY6QZEfJyp7DA+ESJ5NCFYiupmK9czKb+HdbEqmNa/qw+/6xC8y7QWKTPP9wUQAAABvQZ8t\n",
              "RRUsEP8AAlrbI8wF3CZTQACSvzDRiYSqCt27e/1lY2bM8l99wOgWuK2vG5Y+ILBdFGyLHq1jqdtf\n",
              "CBhcLTFTYtUqFdeVQL7rrP2MNptOTXiZJpf5/7v2+5bncNC7DzVwEGFqjiUHemtPHRZhAAAAQgGf\n",
              "THRD/wAFQFwIGgSSqJUedOKxBWvL2o6FlsL0WB0RkGxSmUwDUpg6RTjzVvsgfuhGK5lABNYVnEna\n",
              "0IISoIp5kwAAADUBn05qQ/8ABUEfhfzKjRSKhyCuwEFbN+UsUzeE4J6MxcPAGeYP26ngxGhhevo+\n",
              "9ayA8tzGgQAAApRBm1NJqEFsmUwIKf/+1oywABybVUB72wAj5FYp7DgLPl5vf5Kx1l0PWonzVcLP\n",
              "cEbgDWLPWZzNrdjlWb3ObfGd5zr53AEdEM5VeFQDpHReS0P6rPZuiMVOnqXOMYa1Im5jUbdfhRbo\n",
              "E78h6l4qdmXjpNN7yu8QzcDrsdsO7KWjAkR/+3tRj91Kxm7a9tiH5vixbuJZNQqy3gxs9j1f2/O/\n",
              "a4cei2hHirsg2aJSRDhpMZ9DCaCY+7SqjhlsuPKXifSFDAzoiftNHnGEidml4WOKxEjpl9RQPALw\n",
              "h48QxNqQ03kORQL9nKIkQklRbMGsMtFVRqlMrKG3Yoy6Lz0jIQcpLfdYrn9VILynRSMNmYoRrBNj\n",
              "W+NGnPxq9l7EWi8TXlomHoVb0FdLoCBH7UcH/OeDiNISmRJbGmEhUKJZrb6W9Oc9FoLPUTnA+eNP\n",
              "lTLVyyGt+5EpfN8fdzDqmiI7+N+tJHsikpi/CL7PADC6nzqwNDo/40xq++v2hOS1ggTS4jgKYt9n\n",
              "f0+obS9N+Vzf22WayLdnxuYDEgTv+Q+8IHA1ywh4YwMGUm0qm94pwj+hNDhFjVZgzdbe5uvQYq7w\n",
              "RpxHsqoSe8F97kVNrF51o02XviwLm95IzIjDqQj7hNvTxG7QZ3ULf8MUhn255OuZYcAtPh+6hVCC\n",
              "qYHOoubULVMP+RgmAVtrfuwwjJ2vjaz2Zsaf73sRZbPu5I79QbZ+R+ecebiHsN84mVqYgolc7ZZ3\n",
              "3SFS+Cn+K+smZ8281mTCsqqrKa34ZsG0qGCcd0X8G5oOR49mOF8LM5cWybrwEdY3Hxw3RAtJTehO\n",
              "LSbL1ENInfDxDT29Q++lnBfrcjMu5P/CKB7pkWk13hQMr4TmGwaJtY/mxIAAAABIQZ9xRRUsEP8A\n",
              "AlrbI8urPAygf055/AAjZoG30AuekvqoCIRJcdUm3fHNpRhGaxMBCDAR+UsQ3vv2/sfp1xurBGSj\n",
              "VoCwWzZgAAAAJwGfkHRD/wAFQFwIGhwiU/wCxNnCGWPaW1DW4yXE5ZAXL3KwLWZg4QAAACgBn5Jq\n",
              "Q/8ABUEfhgCHFz6vgDjCcNJEIj85U6Q2t1VSU1jOFjcs8PWAAAACvEGbl0moQWyZTAgp//7WjLAA\n",
              "HJtUlcumAFbMwJ5I9eyq/zqtdOyBXiQFJTvNgIprvAeq4Yzw4W+eZTFHdv0UQl0WKFYBrfsMbUsj\n",
              "awE+gW9tiXdVpL1EYYU2c4GV5BJj0HlkQENCPK3wLN8AOTBXvPs7EYid5d1PdPRo3J3UWeT/J1kT\n",
              "eW+gfH/N7J93aQsOiMZMeG/QMq+77pR7kPZIXOoliZAR3OgqQ9qlY1GX8J44lYGcn2S90KGNfz8M\n",
              "r2nBlu8r7ksZrdrvwV4+VR0mb6LlT29Rz+wPUCw3LCfijtmHZT+OBR3SJwo9XjQyQEbIKij3W3Lt\n",
              "nE8tvFKvx1E4uTbvqKNb28ZZE+UasVnF2Bh4qeEoMNWsHKg97UohadgjvvjJQ+ycxT26U4NEcshd\n",
              "BlatAefiknYd9CKmdsJ48ts9vlhF1F3dsdubWnxs2oaYvcAmr4twkDC4UC/Qd3GX7jLGGhN9Eem9\n",
              "0HhQO6q/bMpialTJYrTx93SKyWJN9JQrK3JUcd+yTop+o4CKFv9NklG06HrAX4uyGrcX2wPGH/OV\n",
              "1h8JWmISSfz/lnPMBbLiELymge1k1uZIQUb3M+YXTacO0U4cczg+2RwdGjydME0OtH/oHcsbsHP9\n",
              "GuQIHDk6U/H06TMn+mHHFH8wwPxYk99t4ZYrmAn9oG8YaT2B4H05tbTSYYrzqcrEuxQ0dEdoavce\n",
              "zwmJ5hdopUeTndzTA78+8yZCNgmc+3ayTh/I4ZVBUeMYQ+8BUmSC2dj9S7eJQsiGvDDQ6xIbY7j5\n",
              "GzkL0ESFPTvD+HdtGWGNMRZkvVfExlX8kK3GpDBsW5IQDhymzzM74byAnbteyhveTa9v2PiaShIR\n",
              "kQHG9y0JLYnaC5EuBKJXk+zpERL57MUOkbwJvtpc8BAXQ8TDCrKhJmbZ3AajehNBE0PaszGf8oAA\n",
              "AABJQZ+1RRUsEP8AAlrbI8uXqPop6RN+AH1e/SzDDVHdCV/WO4A3CI5aLD5/UOBX8FfOnDK2w59v\n",
              "9i0F230hALRDx0r5hR6a0NsjcQAAACoBn9R0Q/8ABUBcCCCXja7fO/Dt2Yhr2V0ZqI6Zd1GlEXeB\n",
              "RCujeiQD7sAAAAAjAZ/WakP/AAVBH4YAhxc3TDQA57U9N+3oMkN7HatKHSAAOuEAAAK7QZvbSahB\n",
              "bJlMCCn//taMsAAcm1492zACnRmQNsz/x4r7XiWs+5fZ+KHK+JTyQMS+9r4GOtYqXSZr22OAPkyt\n",
              "GrzfvllO6M3Zgo7/gxfzFuT/vHTt6XK5k/6QMHrYYs5RXniMxlzVFBgiVY2EPqurgYWIE21b1ADd\n",
              "qnN9RTVUKp0UCeuWEiJetCsoaKVHNGEp/EY0h2Ma77CxRgGTadbOzPAxApaAccG8xTpFs0IYXqLA\n",
              "+Mu3rV9dV7HDD+tIytXtoLdjpTWpuVghjZIxjBQF8PGfGJPdSysMiQwq/RtDDlxsAmvm4r7VUrFj\n",
              "dRtjY+M+NieJh097BzX5MDAkPpXUdl5mmh60ZxlIF1OJfigXbofx9FGiLrqIT9weQHY9ebOn+m07\n",
              "EZVJ60E2utEZOwf6aAHOJfnOwQKrFjCo9Cr285jfozbbt/RNhNKZFX1TB4dU7pfxb1+FIY6L5Sjy\n",
              "YI4K/pOWpzR45/KQtr0ood8D3UdcMFOdACkW8iiuHpIRgBgM6IGnsVUYoG99MoHVB5RdaROeMDef\n",
              "TdYGrQgu3694p/G31zLOhUG7zdqyfuoKpbv8NK8E7QoVZWdHImHxx5Z/4zEfg0vbSk04UUitaSov\n",
              "UJkQrIwRtpbLRoZA11B2hpIzh8yfxmH0ot3+I0moLdlM8kMtSEv7GS/A96gf5+HQZcWNkDLpsVqt\n",
              "xZK9AOfCPTR1w2hUAC73kYvNA7k5qfj2Sx/zRm67kFvdXCrmH1kCaZJFh5R+EkHlftvbDopCF9sl\n",
              "zlcgC3sJdNRNhcqSVfT80MislOB9/MmiEQQdqM/mjKZy0SP9MQTC08uFt2V8xRgLu7TSPzpx8vLW\n",
              "Zh037WkSq0IeuzeiPGP23Sm1BMvBfIak0sAzpwZ8GM7I3MsSV42/KKfg4S5Lj79RB/osv2cqGpS2\n",
              "3l7TwTqsOk3BAAAAOUGf+UUVLBD/AAJa2yPMBelplpEq93NaOb1VjydGqjrmdSJlVxF/RKz2Cc46\n",
              "92K5An9opB0EhsQIWAAAACUBnhh0Q/8ABUBcBf3MM5d/3GB8GUmN6LoCfsGWx904DlcP3ZsrAAAA\n",
              "GAGeGmpD/wAFQR+GAIcXPq+AOLUquB2pgAAAAnRBmh9JqEFsmUwIKf/+1oywADjxyewsAox9U36H\n",
              "7gBG4RhIFtUuGry8f4pTgx0LQZRQQWUCP6oNz/xZrQcMfXO2KBlJ/H76zFWOUE5RfkZrTZqi3Kb4\n",
              "rbDuDdyVkGfmVa7igw9lthdeFPmBditn0d+9O9nr5m9YAUvcfMh25r/J3yKBEyXKUu1utCyBDflc\n",
              "olkrn8gNOlAHFYjrq+1rx9zvs0AvECUxACdscohbLVzz+cDFjoWFRMQHkG5R/fxIEjcjCIRUHxd5\n",
              "wdgQikaJfu9NZPWrcy90CPQ+6poyZgBG2y6fBZb7IpSv1xpeFMT2/85D9LcR2iwdxNYH3KjpQR7i\n",
              "wiIKAkDVFe2sMU2xaZkHkaN5zrcgsv+YU6BjoS0YC8yd2pgEjzkrD9BQvKzj9Oh15+WCUi7mLmEN\n",
              "sxDWmYJhxrELh+kUWBxGYDpadMEcwcU3yxL50PdXoI0qRJC6RNBEhfQeGG3IHByXHt7hZnkPoxhD\n",
              "xbSrUVEmCincTbPadz8kJi14yUf+ne4Hqblp234pjWHhhnQ8K1zjvxydOHoRQ0H8NiQAWBcwXeOV\n",
              "pMkNguXWrYxS6jTRHIsKfzV+ofp67Mbe8rjd91irB9P3W/Idl3lXnPn19duNZ22xQCwlDNgDb6pX\n",
              "V4p1hSZ8T1aWKjb2vGbYQn7PjH/bFkrXXIUSmSPyWeccKQkJXiw2Zv72DoULoN+CDJry3ft16mW/\n",
              "6d4BoXCciqAwZMkr03CiL6GgLLaLOimfX5cJQq8uU/eCVrm/taBoSRb5/Cd/EE8IQKDUJ2/AdvJu\n",
              "Wf7W6MGubs1yT2xFyySHm4QHzbaWcE/iU1hKUmyhAAAAPUGePUUVLBD/AAJa2yRUgv/wwDWHulTp\n",
              "sWPsFBF5VrEhzybZw+GCSdy5E6fCMc4oLh2yLahgM1WkWlNGUkEAAAAaAZ5cdEP/AAVAXA74RY6Z\n",
              "bJskEMJIIYX0BDwAAAA7AZ5eakP/AAVBH4pDMZ/bx17I7UdpSDSBhuS3lVfClEx8WBFDcwBloz0M\n",
              "985Zt61CmQzSTlVMLLuggakAAAJTQZpDSahBbJlMCCn//taMsAA462quhYA2RSyP1NidmrBC57Nn\n",
              "WJy7OuHDlvySGeU+HjaJzbHcZ0eLdkmCyU5NDdbUTN9WV2Ly+o+BuLOJLI8eXZqZEEjel1kPG1YY\n",
              "6p2nThRgXbYVsKvcBQPZV2gTx/1rxNSuKU5FoB+hbobfmIGyCDtkGtoKRx5BI1usFAyLmZiE+0Cc\n",
              "4BSgRdv2Vd1doJ149iPyzIOQg15/di6pSXvcvHvt/fpnSzYC+UpuE1ZibjM3Y2S5ew1bsCdHnOMp\n",
              "Im+O0yTmJzkPxUfWTFDBxWnGWr4F1BVcrnC8CHW9aF27l9W7vgM/QBvBf8Wg/dNEdOO/dODsYrpE\n",
              "m4hIF9gch92If2OAIwcbTUdXvQXJmZL4ui9NpeWyW+X3u8t/BgbjqyGM6g4V+Sdz1Q3uzkeS/Bf3\n",
              "t5fKFSi2xC9KB2IlwXIB5snLINYRb+x2pJw7uNgdSu8G6hEw2bW285IEF8rCDR4yVNnq048Ppctb\n",
              "H74hJ5mbNhU9r2f8z1YO/1z3qBXBYD8HUzA5eOs+zmlxwZoujD8BA4dnzhjVtcGnrj+rRAPxalhc\n",
              "WZjA/26ZfIv6fa4vZ00DYZw/T+rki1pVy/bJTQkUa/sdqB/7LANfJw40l6OqczANNFHbQNtAZxzy\n",
              "5G2IEqXPcNtK6ByWtlEs66r5Rfxk2MIeHiHqyOa6YYqdE0o83CQIoSW9us+5t+ET1yS0Xi31bv8I\n",
              "pd4RD1JWgTiEwZm8yIoRmxOOP9xjtUBIsPem92QVmWr0fbUsI/p6yzWDgVbTgQAAADlBnmFFFSwQ\n",
              "/wACWtskVIMXk6dvQVR1l2ZDqsWhPR3kj4xGNftaAA0M07SPCOVnif/F84f/66i2dakAAAAqAZ6A\n",
              "dEP/AAVAXA9RNViHzn8aPFcC8oPb7JRmIuK4prFfrfYL4xUHp01JAAAAMQGegmpD/wAFQR+Hwb+O\n",
              "KYmxiavcQ1WRdSwyv4XvjWrCOc16y75omt1vEHIbVUv6NQQAAAK0QZqHSahBbJlMCCn//taMsAA5\n",
              "NeOf8AJ4K2T9dGziU1UFwmt7JlJt7ntSJPGbA9F85QeZ5rZg3irp8AZa5f3gUNDe0sZ+bPgU8cYL\n",
              "CrJ36mgMJM36di0KD+vP/S07lLk/1gXkm6sPcaZPyBr97dpIJbJqJYNm/5booJBULhP4mfMYDH5Q\n",
              "UBF/ETnrGh9mRFxHNb9G2tKzN5Da1lf/uOumpg4aIxRYQ+di6tp+JU3KcmR0shgZKRfKkk3Nd+VA\n",
              "QVypYOyjo93RKiopueED3gqSn+2hUSO+kWQEQ+XfT5+BZEFZWa9vNiFEoFU89KNGNNwMa9gKA9++\n",
              "jgDBmWEV8BY0s3K1HI0oxqDA6e36RdDBTvx73Lkcf2HNi9lNmBJat/Qizvuzm+qdZr3lmSz1oO/k\n",
              "Qb9DeUjaY5uqDCdKgxHs/6OHA89rq8zFO2xaOLk5ZHZFu36Eu1NpOY3ZxRzIQOtzfwRc9HKYQ48y\n",
              "hDlglnJUhz3bOEZrCtRJNcPxHhsa0K1W8pnYFbCy/p2jB5IiXK9WGLgCuZnSI9T0iutHbolXvKPI\n",
              "g1lDpQKHlwbnvDfsLWs3GN8662dRyzoeWLIiYwR30X6U7DEeADKx1JxyrYwVLMgFmfOTd9iN4866\n",
              "+jttAP2VAgnC/jj1I6csxrR1LrakLICau4qv6+HghoSbE154WXMZMSdEoGEhmGgvpUpyYFFgTpwP\n",
              "Wp4E1QK1jAMtmWBTb4uUhWRKujpm8VSQHp9je6sOjA/s/d8vqJqvxzZ6A9KssK6kMvr1iD02/C82\n",
              "9s6DEnlVHAAct9gEzQ5Lc0QKdWFHCj7CVPxqI2lepw23eW3rm1/cQ9dltjZmwziYXzZSpDscbhni\n",
              "4tKtjIYa/Stf+o6E7hQBEGw/949tvbqTRZx9himx2F+xt7AeQDo6OFSVPvK/Y0EAAABeQZ6lRRUs\n",
              "EP8AAlrbJFRMIZ0CznMaUJKfgiQ/f9QdYXvP1ykflDEANwX7vko0sdxaeLG6l1qvNDBZ+XqYkmT/\n",
              "yUmkOEB799/0u9KrlCDiiSSvbMXW6n/+/M48sWWl4QAAADwBnsR0Q/8ABUBcCxLxd2qXcExRk1TR\n",
              "Z4fVbLZmLnizSDAC2f2xAJ1a5R/T1Dk3Uqj+MP/5paVxdv8iN6EAAAAnAZ7GakP/AAVBH4pFPGJn\n",
              "bmc6NdpFkFHVJuImBKo2IcZUjaWbIMuBAAACyEGay0moQWyZTAgp//7WjLAAOTXg4XCASxzhC/E4\n",
              "PcRvPjqIU5AiQnRpgKtc5FbHmu8YDALxwFLny+OQPg9Me9FYSbcB96/mwbfRzYdTigXvT1hX01r3\n",
              "tFL3vnylcvbAxbU/BpuufE0Dcfw1nmlJmBHewpyGI2ZYGltyeT7aCIeUT08BVFvcuCL4ZkY5Cme8\n",
              "MGhEuBW7kWL6e2TvD0a6DOkvvuYYbQPaBwo9ZWknllJSuv/hiclJ3ZQity+KYecTxTqHogiEFDsn\n",
              "a+ettYpeXRb7lxhY2sRK847eYFT31++5BSsnGBV2Q9+HxftBjbrUeV6giV9w9P8r9UIPNof05Bc9\n",
              "Qpld5KLsemRAR5xPFExV76e+yzlK0iUYWCZhUrfjZQHkohK9bIGYdQzslnz5CnWGCL9HxIu0SAbF\n",
              "YXB0KkWjAx9nUduU7+5FCtad8Q0zzr7yhhR7pRemOYl2eHZgVUz5G2YgeaHgV3NFwad7VDGaYXqb\n",
              "//3GEPQIrAUWcqaXqNOIo/Bo/1UfWi/wfCmGwrudH6DdXac20rygriKm+oI9os1NCRUak5fZ7RZr\n",
              "0zbahJnRIBt3I0SaoEispmLj7dBO2sXMFVQ4nAIadMOyiyEPpljTSc8IjV8TuGa5AZS1mICJC+Jj\n",
              "i/AekD69ugFueAsVeG2FlSIoaPlzg5J5B0T1qOYGusHG8D9sXmTADvDggKnT8qUoM1nQGPaSBb6z\n",
              "M3NP0zL6j0XV22rHMRUR5xqmi565q3bsDf2BQloXAwuDu8MDoMF5Z2W5bsWZOucml4tj9Hkz4mU6\n",
              "Y2m7zpfiPqfKfrembAploPr0wtFXmTk6GLxkV6Xh1gDFeMLSwOJ9NUUPgJfMIZ3wqal+NbT2BTF2\n",
              "Gn0Qa8lumZU2E9p6H7Y4oYcLMPrAqlO/ibTm06XhyCzP3ZhGHhHDNeGebMyCp9zmSrDlNGtA2YAA\n",
              "AABKQZ7pRRUsEP8AAlrbJFRLUWTFxZwhFKLEPoaT2/AAFtXtZh5HRbsaxp6zPoEi9QaA9ft4H/sj\n",
              "vwpgi+z2rxjeH5lz2qpM6bTdNWwAAAAtAZ8IdEP/AAVAXA9RNU6ugNF72BosLLXaJBCWMAnUqooQ\n",
              "ILC1DtGczWQWv0nBAAAAKQGfCmpD/wAFQR+KQzuYl9TLx3+bIk5fYONpX5xqH+jZKbRESp/zxwJO\n",
              "AAACqEGbD0moQWyZTAgp//7WjLAAOTa8eWxgAOCDG/QptjKa3UApToyxHxc+pRvoLhPfTLlnYpIb\n",
              "HyLS9KFS7dpWWhxkP8EaqWeTEbxAbVNnLzjEkXOdZgo3LRoO2Vp2Ey0/8yd0YeUpvHiOhg3I5UxF\n",
              "PgrfmgM+V4D5P2Yho54HMoz/S4vaI2WfyY6Km8kjRvR5mRUQTgLwMjRPoRxy88x7LUHW0W+N/7R1\n",
              "nbgjzZb5G2YA+pGRXKMtk0buM1w1VMcVpSi9164FOXwTBrGsoHuE+Xm2/gU5DE6H14YmZ0ntp+I6\n",
              "MY+hpXxlBkx9G4EHr7VXweAI329KDkxYooP+RBh/C0JY7lBqpTA/FRvbvfA0M670Wqkz88nRqy2Y\n",
              "qHmkb4/H0REwjPXKEuKr1W8QYkrmDjPEg+yKMnYQQ2eHl/VNpZADgan4uf7KCj9a5686v5il8QkJ\n",
              "WG4j0d5p5sBXelnkpgbxLvD7DoPoFSLntGluDGpMt0Y3JxQoa+d7lY0uv0H41S3cJu0CcMDsxuFG\n",
              "blkDq1Sgr8wKuqqOVT/EyHjFfM78s3QmbFUIEE1SsFmKUaIRbW8tRzweG4qJXt481gMnrHOg3dBd\n",
              "qWw4Ekjo+TD4AbeWXvNs3siDrAtxMzXykzWa9b5e02y5tnFYongQ3HSjeDN11jf3Wo1kOohvAcLL\n",
              "UOS7H9hOSuchz1pMYgID0sYE3JAJGJnHHDtoha6hUA1PCBRFQ1I4clcormvhTmyr+Zcn6lpgJrr0\n",
              "i/K9CYHvUL9z8IzRZnkIQBE9Gb38kbgyqgqrYwGIu4f5gGnxlcAcM3JZ1pKJKJppttaMxhaWrwsG\n",
              "F9IAsU4ebJsUjArCwyQlPeh/SUmnpIYXi3Xjq+pkCPPr3WPsD/98ektnXECNZ9IJVxE/Ya5E5zNA\n",
              "AAAAa0GfLUUVLBD/AAJa2yRTyjwaxdiaH4u+fT1JFSSA/UqQvBv2CXFp99A4DG1932u+ONPng5dD\n",
              "M+wn8F8KjfqnLf7vlaG0YfvMzUxVe6XxPQgcL1r8FVSpD/uuvL32achaXLR1UfNL2i74dqTdAAAA\n",
              "KgGfTHRD/wAFQFwF19gyIHVxoqhBoVzWcqn+FAf7UkxEWT5Tpn1/bV7BJwAAADgBn05qQ/8ABUEf\n",
              "ikEOHker4MB3R3J3PDVovwulaxSEj05zUYAR1hBqPCDHq0X5GjHHYStX+kj44QAAAkNBm1NJqEFs\n",
              "mUwIKf/+1oywADk2vHltOAAsAj3aBuAUbbwr5loV8BKL/qIuA82HYxMce/zBLHBkYeXd0SRZc2n2\n",
              "rdIuFSp8lMeT40lSvl3Ev/8GjCqZaM1hCLF/XHz2qz5DS3MCQsXcXLLX12SrqxrygL0mD480pJhf\n",
              "x5k2u3tg+JXPVizx1+ucNaTxorvBCRcZVpVKlRD6ddJvwDEIca9Oo8/GsP/uL2ilDu5SnOdJs8ny\n",
              "DXQgB3gpWcwR4KDXcZmdwVuFWc8809aGli5CPZZHjJV3471vWE4ZFJJoUeAzADU8gzSpVrtcaQux\n",
              "bt8Vo3kqmrh/bmzjCtuwDMemg2t2/mSfvh/Khz0HboQ932CpRaO8Gd8by6hDCyuYiDXnkEc5IO+K\n",
              "MEIEXOgXd+K/Xz6AMCDwTt6fQOeoD8sauhBPOFmSbHwaXpfnSb0Dcj+rfEtzaG8pKL4Jg0NUMowO\n",
              "Z3Xv9j5k5cdya+nPY7kU/XahrxoZLgh44/h1mUWNcgy9/fXZIsBxcj2v1iXpz73KJ5B+vDExqjN7\n",
              "AHlhmen8QHmE/xmDSM9km5nhQv/7BUcSv8bCCZlzZdtA8PLrdakszgyg7LcgRcxaOh4FARKZPSqs\n",
              "vmdP6z4Mj5yUaWChYcSXuG/B6eGJ0WiZxeG6BehiBjuV0CbIU/Q7Y4F2rsiOqumvw3NvZqXAwoSW\n",
              "42k4ezgwxJG7IuU2FN8N+ku7ZgZN/kskd83STCtKAKQwL42J3Xwh26EkiDt6cFbycCuJbxCWSqXk\n",
              "ImAAAAA0QZ9xRRUsEP8AAlrbJFRMH2QC3MSDgFq6hlhzSMRMcs1PSzUItyEANKgyN/52O2mbsf0C\n",
              "bgAAAEYBn5B0Q/8ABUBcD1Dg3ibOtir5qqT8xTTmHAph4fqABkEeegpEbkAI1qtqNsN2nU8Gk5mL\n",
              "YsWyv+fyJHeExMMn5rBqfsqLAAAANgGfkmpD/wAFQR+KQztqc2sQX6xemdAYpt+8m+AEa3sXrYG2\n",
              "Rv4b/Y1maMa+OvwWdS+QyVBWwAAAAoVBm5dJqEFsmUwIKf/+1oywADk2yB00wAp63o9wbme/vbV9\n",
              "WAnAimyL1Ngb3NPjKMafn1SqqvRziSSVOj0Fqzv64luLPej9LH7e1Qoa/foDovxla1Er7avmehGf\n",
              "0Rmndf0HZq3qjvz3QdBIZ2XiDFXP9n0EfpeL15fIgT6y/Ts0dyaBvYJAc1zKdeh3m6yElimCe796\n",
              "hGQY3EaixLDKfyOHl4WZgqqeNYvQS9tvZ8Kl2OCWWSywNshu0SGoEXE11FaQvzQFmBv18YYUhB1H\n",
              "p/GP0rrhdm8Ee2qVi2kPKeHa7LBkCfAjnnKrP7fVGEr5gLmzXpMGzoF0T0vaSrXpYX8JBrBbXBuZ\n",
              "WX6oZX8/VXRnpxPxn/8mQd6Y86P5nDbCiLHNfn/pb84n6XJaBVOGuYDqN8rNdnlH2DhzvUBVOTfd\n",
              "ZTB2n38WH172wLLWp/Phz9STNb2Rg+QfiGDDixd6SyapN/SIhCCS/SbamTpIkFx1x9IEFUjFkTBz\n",
              "Rpik1tAWLM0ZaaoxKuWVMzXih5oVdsI3snAx8aeBkFS2dAFIdv+7UlsXvdMZkPPC76TB5rL2PhQm\n",
              "SRNI6Y2B4dgkFxZNMuSe92kUkXs/gmDDm7d7j+xQ3qsxeXn7uYp4s9R3nB41BthgJ8WvRVBfto+p\n",
              "+pGFuDA8YWAT8J9PzeyDs2KkhA324/LWRARfvaNSu5H4GRETXWPxuPEevs7OTRCHec7DebIeTnkM\n",
              "2Etq7raEmiPgl0J1YizLtRJKof8z5bBG2WATIU4ovcXBFEBG7Q8Iq1uNSZShivn42uMKqzmiqWbp\n",
              "wiHyqACt8lFmNrEo9yNRRiWKZs+pj680tveX5OSC5mwIdwNVcUBxF3AAAABeQZ+1RRUsEP8AAlrb\n",
              "JFQL0w1KoF7g9CHKEYyBtanR2VrJESNlXmngBVn1vvgsVeueIKWSsjNicEZizGji1bfEj+7UOoqO\n",
              "EOqta/ty2GUwfgOhAKI6qWh4PdZukdYd0QAAADEBn9R0Q/8ABUBcD0pXJq8a2oY8ElZ26Ja4SvYt\n",
              "QcvdNH+ZlRQKPcLJVQ1NhDZt1CXgAAAAOAGf1mpD/wAFQR+KQmcv0s1RfXZM5lSfzkdcu3RmcC1G\n",
              "Kqwa7Q0sFpE+vFJwMFfbIYzuGAKb+/2VAAACikGb20moQWyZTAgp//7WjLAAOTbIHTTAChXI/4ML\n",
              "r6U3skgmfPyUcj8cQaAYM7wAguNFhigKKA5Y6FkGcoUoK0yyvOxWGiJeqOfbigVI606WM0xMNO9y\n",
              "WKOOlZ6f5UjfWe0cNUDtK6PvKbzJibK5/fYDvi1WMJsRJIAJCdbDK1LSmkFxWrYfpDTuvmFsRIlz\n",
              "UXDSwPO6/W8r9iA7YucG2WSje4+ZbLHc5kTL7DgOs+ObSwQIfDgNgrqylJ7rbwqUg8/d9k5VFn1L\n",
              "GOifZxeadH6GQEQl7vl4+lZ3mibhx7zCrtxWdC+V3WJc6CD2FEqtqRUUNp7JdInPKXK65bkY0JH7\n",
              "MazWYogbB1l/se6BHJ9nj6HS/FYnPgVD1IglO1qzxhTt3wAhxnVyFNYHR+6RWKO0C59BZ6GYFmyD\n",
              "aPPr9nvsfjo5CZrJ+xjaqUM5x/c9btryqoCN8Byo4YyGKu+ExdTlv6H1g8U94K/vG+lETzAHji0e\n",
              "6SKYasO5RqgEWZfG7XGhlsrzWHM8vs+OJFJEfxclfG+gNzydya7dC9z0roQ2KgBxMp8lzkv+FEyF\n",
              "dz+1wCTn/7VV2TEqymwof6yUXbd/cxw7WJ4EdxBA76h4Bd+3TiL3xvaHoaJd+0VXudFqLDf0oltw\n",
              "8P1ATQJlSRHGlxLV+ZhGgbeab4V1TOPpDait11CHBsOsLxyu6sPL2wcX7c4XJBq/eeQU5Ooc5vdH\n",
              "IewrGI/kfyzfGnJDC+ru6ouyUeixaFMA20Hy5flZezJhmcScmSY0RS/KowKnE/579DzsF4IsBACh\n",
              "BoGw8LWOTIPn/WfrqqigISjse2WVYeqJ34FeAw6TeuKf+7uiZmluJdggUtc8jbAOE2ZlAAAAUUGf\n",
              "+UUVLBD/AAJa2yRUC+zNHW5JyBDCkioFFDpiCnXwjXGp6+JQSADjeqleGghCwcI39HKBDddG4YLr\n",
              "7OQfWsZtjkW1X8AcQGndT4JBwEiFhQAAAFIBnhh0Q/8ABUBcD0kkzM734HInGnTSmYtAxpVjkFOF\n",
              "n6VkoWdhgfABLUKSQezjztbMkDjkjJmW0uv71SXQ7UrEorg+ao0u9ppZtmvZwF7JcCthAAAAUgGe\n",
              "GmpD/wAFQR+KQmcvz2MNZS3PU2Ov3bK7ZSdCxk27wvviBfPQmcKYIq4XS9csw5LxN1AAm4FYaL+w\n",
              "rN/QtCjcDQvE+fApC0GK+d3JKShy0XAAAAKPQZofSahBbJlMCCn//taMsAA48d4jsAI+0JdSVniK\n",
              "ccr9RJTCxYGImUZ9O1toS7KKYyNb0LSGTaRGV06/MBb6u4vcxQAb90Hl57mgN9cXj0vNG8b+8Ycv\n",
              "POzbi9UDXp5umn+QMOj+rOm0TuM0wSuXKKUAXv54xYv7FpZjs79XEzAJDv9LgJcFpTm770/TjqxN\n",
              "OxfTUxqXuXLGvLR+H22/Uw0+DSuyB0LRcn49oTfsPAXeXAFzVbHpEi3x33B7isaKd7EidExKXd7T\n",
              "dCH7MxAJSRovX6ZRetLVB1E8fP6mHChIj1GXwOUq1qOAOxXO5zHubAwZxRsXFZsVS3/x6OuIdbhv\n",
              "VLu3N91dk1Tu0dJhdVq0NPIaNQez2DEukOpSYxL/t9k/5RtYMrvXhIodJp2r7IMm+bYfAcG/3l16\n",
              "6Qp1dax74DTLEppos6Eptb1U6M4aGHpJu1+GyPf18ewV2j656Bur4PCcZJ4KHVVjWyhtHjl4Zmo9\n",
              "2RryiW44h/qTlXOi8kz0fAKykpPterX3hoJaIHOhS7zcaxxYYj1t6e4fPwvMFl+kvfCUjzagk1cg\n",
              "Crd7jgRxx0rnmXQVcCNu/ho2E/yTI++YScyRevp4WK0Qkgctanwr77bIUGQp2iTCnSTaUA+7TepH\n",
              "d0jSpwZGxEAlS/pKNjKV9l70WO8ThMKYqU9wgBf9mLZyA59SAuVYLgzuzqtDYaiva1SFjVBD3pQt\n",
              "lMX9grFfpTnFwTxXT6tgP/v5k4akuAxPCNou0yR6SHzS56beeCE5oPtHWuBeNtVeAXTpAsT3AH5V\n",
              "oyErV4KSfEzGnv5cqqghFlSyDUNhs0MGJYkXQ81J9t+Ht5QKlt+k2gS3SOWMd9XwGTz3YpU9gQAA\n",
              "AFpBnj1FFSwQ/wACWtskVAvTDSaLnIh3L9Qlt9NM0CVfD7jJpLmL1Q6stde5CaFDZxJpnbKupMKN\n",
              "QZcLZhaAAb41V4CcQ7UYdsQlFD9NcEt0qn7OtsyfW8d4OaEAAAAtAZ5cdEP/AAVAXA9MmV4v7kSn\n",
              "W0914/fanF+neEpSe35Gqd43Qj9mV6jl0ITMAAAAOAGeXmpD/wAFQR+KA9W187YdQpsp7G0SahxO\n",
              "+Ubt0AJbBFAAAAMANRkL3Lyf1kwhrJwHQg/F+wi4AAACgEGaQ0moQWyZTAgp//7WjLAAceO7hcKX\n",
              "fg0oAluzXhmtY7UDoSAg1kWUYeKsb3691OULtZGxCTZerC5KDEeTNrQMMb/2knywGGm9N+LeLCPQ\n",
              "m6t+EXVDWCGxFVLb4Z+VzpBe3lKbwflaiVoxw58GyAmrkA3IT4z8oEjVKfk2X5v9SSRPNIB730+L\n",
              "lDZydIoqEuuTs5MIz5gsiTIOfnYFHaBoP24KaMigT5vXECEijGxK+ks9lg41TnrhhxeyK38GP+7/\n",
              "Y5CVMke2ydv5wbY4u1Ey+Rczh1IGI5jxX5RuqPuAxDwLeyst/vFSPrPaaLap75n+LQ/Pavx7BZKe\n",
              "847d7zLhYw+y4pzYyfr7PvlcDRZtrE/6VPkhvwfkojETCLejFketr3LLQ8+X8yeF9V/7gzuhh53x\n",
              "VsEWBhMMTYE+2s+IS2Saxs5Y0mW7B2vN2U/y97Hf2AHJV5LoKs2N/m0tZDYG4CPohLh5IHMJjr7p\n",
              "9Lq/5tuyBGS6WwbI/K9+pjoDDUJAZx4eZQD9VQdhScVqPdwW2DLPY+zCGHheMiw9Lz2nFzyFcOYc\n",
              "Wj69X4jzvKmL6pjJlcoYqibtG5cE2zm80arXAntL9x7KnL3LVGMX4BA2KtbiHi4SBg/qwTeWM+eq\n",
              "exaL0bKTaB60XqLWyK82KaTw53M14ANjwPkGmX92nXhNIdtmli5LzK9RpIqIPznMj1V7HlAsR1Cq\n",
              "sNzvoFypns9kqK5T8xvw9luknP53IwYdmwx7TWbt/b6jd/aRKmBDDvQw0wHBPi2VKuawK/GQar8e\n",
              "aDCIKDzVIgRfIdmn7HI6SDcUWlDa/GlzWX5Do5kP9/j69kH7ZxS3+Es0q86X3yUAAAA8QZ5hRRUs\n",
              "EP8AAlrbLSbUE30EALoiZ4Q5z/D6W0vEKw6MVRNd0HI6AC2fkz+BCSci2MO+weyK7Tn9h+JeAAAA\n",
              "OAGegHRD/wAFQFwLDo5nErjYrDv+zDDhJ2BEZcee+f7DAC1yloIqW1QL/8Obl8rCxNCuDg652IdN\n",
              "AAAAGgGegmpD/wAFQR+E1fCAzy4xIKRxWFLIbgELAAACMUGah0moQWyZTAgp//7WjLAAchZk5CoC\n",
              "DRaIMpHKHL/bvbnGQI3VBF7At7xftDnGy4CrgP8YMmx4yD127DRcKWDOr9xRwME41F6wdxKWFa3Q\n",
              "NAt63g05nHZTWi3WFWqAE3EaugbEKxy4G/S+kImzeKJQiLoQul+WSdoTYPlvS4Fo4vjO4x5I5uzn\n",
              "mLegvVNfGaJBivRghE78riueKd65AP6gh+2NjnafPlMn8m+nMFqrrFjL7rsJqnZ3RugISo7XNl/6\n",
              "TTRcvVaRIe0E1OZZxhNhP8tqRhsc6BGVCaU44CfEEtg8ULjPbQZIdsuOOm7rTbZet84j7fcpBvZa\n",
              "vvh3MMmM4+OWy0eofhnAMQILGB4WIMSpLVkv8kgz4Gv7qHIUsPjLSg3xelcu5btBTKapn0kpIGyq\n",
              "lyMmffRrElQx3Grm3aBQL59p82VFzipW+7Jw5Xi1XHIhKS04YZ8xb45TvE6qSYBiAUwUOYm9gpHf\n",
              "Y125HcWCV2nWIoFazUJLf2P8VBNWSrJPzR3Umdo+RUWtTz/KailqjIUSscsORmnmCUrez49XW/Cw\n",
              "Hkn6FvOvvl3yOgCZ5eP96Vv56zOMZYXFFRsw+jHId1rd4lEd/MbtDjHeK5M2Ej8suH2Aody0FDwe\n",
              "WzvyAl33fhs0JmFQAUOQbTZT9HT2Gt8xMIEZfuqn+iZIn9FVLWLZWGHXdNDwasj/9jz7a+ZNHEdF\n",
              "ISWikTfPb9TbVqbFWtoQarZMH+rqQEcm4QAAACRBnqVFFSwQ/wACWtstIZSQ5hqXkUx48zTdPxWy\n",
              "9Gq3XMuILuEAAAAkAZ7EdEP/AAVAXHtLJRhL1P/xsskNq/JzEYeSpr2Q+8uPDGfBAAAAHwGexmpD\n",
              "/wAFQR+E1fClDx6AAarudC62Y+Y4Y+46/eMAAAG0QZrLSahBbJlMCCn//taMsABx1VbekAX4FQ/s\n",
              "Ad5GZgl35l76oYcRdY7V0YIyMnsJ12mzr1Rplf1NdtofiKes2bjDJ0qaWOo/TGaFvFAR9fRIGD/s\n",
              "ry8BBgPZjxu+zNoVmYN4ky0vRA/8NiHfLp+62+nBvIOj9o5I8jexO+S/GI3HoIv5wxJCOGNz3ni0\n",
              "Z20h/0tOzI8CdmOx8pWi8yhAUlzLtlaGBx8VgjxoieLXcYTjqHtFfXZIGNMDBJG/aoKWOzI10Mqg\n",
              "oP/w4GbXTcFFEHeRRa68kDhacffNj0ct0ZXETGStZWS4dyszuX77vJnHVfPjHcitrY8BELki8dBq\n",
              "FxefY9f7w9x/d2fKclW31/J5zDF/TrSHdNpVf8Krq+LeokjqP9S6w72JYH2eV7T4i318izFtTcc/\n",
              "esYrE/voVx1UHQVQbt77YLtch717Sw+oprRwDD45t0bp0wpKC5uJ164VxRSA36LhRVlUcK/A5yHg\n",
              "0vsbmeIY+HifFqEOdP2rnoZZE6LdN5F6s5V6UexUE2h3IpMKWRuOd7FJ9HYoyh5Ybz6XnhC71D3N\n",
              "lK4kmygu31lFwAAAADRBnulFFSwQ/wACWtstIZSP8IF+vNQS/NlRZcUwTkjuOE1xULfUAN0+UdS/\n",
              "QfSJMIDtx1GzAAAAIwGfCHRD/wAFQFwLEvF7TUL0JIHpdvSI3WjXsuFvALyt2WdxAAAAKAGfCmpD\n",
              "/wAFQR/M+rINHhbjmNzmgUDJ2KJWZFu+9bUiQBrJNJ8y1BAAAAInQZsPSahBbJlMCCn//taMsABy\n",
              "Kk5+GAA4BDkDXpG7r251cMYDMzfui/PFgcDu7TLhtEOkV/Q/SrCEkgxvRvpqvMOsiXgzUt5KgX82\n",
              "bR/mB6hYPj3YKQDsqkTYD91M6fE4W3NWQVp3f829Vdz9+6zX7JcznRr5dOWO4H7Uq7wJ0PsBXqYF\n",
              "vyW5zzy/NWOIcP68LZ44MTtKh8/vSbat0fycJgIVsQkDBzAkjDbwpvvmoddlwdD3ia6zSLwGDVjo\n",
              "jKDfPj4caJjBnaVpjO+VDC31JYUCIWriynSuHfoC/yFjr8cgnwM0CWsaepBMN5boIOt1lPkrTYGI\n",
              "+saEJr5BwMVSxNNfCPbCJvj3+I/L2mKQSVKltzX+zyWcBMfbq63cNiMcypbTQnOWcr+6gTqcXeAU\n",
              "E/OvdMP6pH1LemN2AIZv2NuZxzIcNo7BLS6DkYq1CusND4Vyqonyx3Cl1jkvXdC6z/2g05xz3xPh\n",
              "xPMIAR88EFYOUHP+cmFDPVDjVRGtF4liFmFJreawhQhyYnSqxlgVr0QCbLMXQgZBS+acawKSe2N3\n",
              "s4iwudGKLsaIOqb4gmja2PO8Y7TAStm5UMPzwc7it/E0xblxbUhSpgnjKzNbElWfQre4t9oYoO/m\n",
              "6k3LQSWxCwZggpjFqI5akzm/3yzxXHVWMebIFSQUVWWNNGhD8ZccydjviGpBdtwLEPzdmjCL2NrA\n",
              "+ZIWY4O+5OCADrbkc+0+4C3hufgAAABZQZ8tRRUsEP8AAlrbLSRrnzSbQ8O8W3ys0GDpx75B8o+t\n",
              "1USBTFmJVdwS46BjDDZABZjdbQ9ZaE2jo55SFPK9EqhLLUf+QEvv537YRCdDlglE75HjzV1zA/0A\n",
              "AAAvAZ9MdEP/AAVAXG8AJCKneaKTfBTnI3Ysmjn1Qz+9+YBGETd9RmJBYESi2kC8EnEAAAAxAZ9O\n",
              "akP/AAVBH8z6vQwLasP3+S/GoZVZw8+mWpeHaNCzeejtdaYqZ+u5633yxqSmgQAAAeVBm1NJqEFs\n",
              "mUwIJ//+tSqAAbyzW5xgO1eugAFDeV/PAbwEXiODsbyh+OM+9v9ecYOMbzfu2nxVV2Yt4Zr2YmGK\n",
              "yiAZnB9Hn7za3l3CsTa33sxLKzw5eT7uVjmM8dOJr9s9jP9MDXZ0J7ppSJ8tPbLKXZf+CtlvZdum\n",
              "8qc8aEIUsC7RBfawWog391/Z30GQoS+o8Mv5H41ydgwmJp/HyfZk4jtlni+fSS6NFB+ksk4zKrbI\n",
              "fQJONfBTmtWDWeLDa/mFUIL2fZXOg1joL4Q47wSivKwXErAhRMXdXhErNupfmX0/6zHDPUTeNtEq\n",
              "zH5HSL+CvBeLIcYrnk96mkM8jzKJNg+cmvBlmMulCvRV/JTev2nHxCR0MGAZXECtysmCujH4rHW6\n",
              "CCTYnDpZg26pUPvp3pr0EbShCDC9De3nsfLaVsH+YKYyldaP+1oRBvMMsEO5Uei9X9Rov16dRRJV\n",
              "sLRDR/1nO5EdCQ0WVGkk1Z0pSSQYSZpm9OIKQhzXVYoKQOsnNn4CeoPptffGpHTcbsp2pWVrtho7\n",
              "q+ai/m9ZJ/k2h+AUtnlX+JAgqecjD2GmhzqSEQrJ51i0fVeEvgcRzE46CGfUriVUsdWKJ3UASue2\n",
              "x+IxByEOe3XBrPMu5XXE/MvVSHqFgAAAADVBn3FFFSwQ/wACWtssO6rQdOVdmEVanu5OTytjnspb\n",
              "UKFeAWbuXDjRloxesxVTPhmJbBrD/AAAAEQBn5B0Q/8ABUBcerOYOFzKuP7O8nH3ISLpnPtPWCZ5\n",
              "WGXC6ghcJXT8TVDyuAAEtG77sCHHNeY6hYC4MLw4FxFK2T8soQAAADQBn5JqQ/8ABUEf1dGgAsdL\n",
              "F0GzWf/wqMdwg78zhihIiR9fodyUUo9jyb+9w6XlTh/W7AGzAAABeUGbl0moQWyZTAgn//61KoAB\n",
              "vObya9wdEgAhtdknZKByp5dXgPlB6OLzLOtbuoQM5e3ijiDjA8+PlbTLQMk5XZhlJYGjFf/ljy8v\n",
              "vjtNlr7KnfEXfF0iqoqoZNTvN//Gq1ATg1Z0kyqOZwYazclT7FZy1aa12PjOCOLwKG0qDxkExjW9\n",
              "7j5rARwv4PNfyt19xZ9gLAbbpF9QdTctZt9wQ4H6Ov4h9nCV8nWm3n14Z8cf/eBi5TeU/slGSyU6\n",
              "Ay6Oy02VRj9pd2TFL6EhmjcgLaX146vtucRlXrwVM5YhBTyqlaQMybRNvnxuI8PxHHHvH3tHVE8U\n",
              "STlbLZCVWJKlcrckN7NexLe3mT2zs3qRE0MLECGQPTLeGF3eWsVj+5AeZSd3m7/fglDcF/sIyG7w\n",
              "MRpDG8j4P0IEGBGJOK1ctx+fGG+/4D5StMf9gY4JRGJD189jEApEa7DdKL4r3PAMinVcDrfzSCUU\n",
              "SwW+hz06+H5Uy48ONH/NmpWAAAAAKUGftUUVLBD/AAJa2y0oaQ1hsp5aL6UXd5FvCH+SRgoNbg4h\n",
              "iTMsAAspAAAANwGf1HRD/wAFQFxvADnjajEAualMTroinzcSkpfm4GYUUZJKwcQIV3JjT22ot4yx\n",
              "MQAsF9k0g4AAAAAxAZ/WakP/AAVBH8z6vQwJFr1O/vzjWrBKbQrD5bTB+oFeLgkuwIP/hq75trpL\n",
              "dvpjQQAAAXZBm9tJqEFsmUwIJ//+tSqAAbyzW5QQAIexlYxpjcO+Ir0IHGTqlrF6qCsfb8DliTud\n",
              "FtU6LHiigjxNUud12iL2FRrMduJoQee+RUbIR8fc8xtBVvHwt9k4L5AfI8MlOP/kYXsb3pn4O/Rh\n",
              "5UDSlPt6DPUGoTwiNEgI1bSpcGCO0sqN/0oj6tzgiOnJG0opvfzZYmXVvGQAq+YRtqm0+xsuVfq8\n",
              "ZAeQIHVVNMuG8c5XvDS6/9VinvjqpQrq3cOXIf7kuEZHgzfgXETjUh9wz9mkozzorXuEDgBvu7WL\n",
              "vt63nskjZF0j1CKcl36SYZ9U+AsHav0LDla+FzfB8v3kYq//VfA5hfxPFFS99j+LuI4DG7yuGBwc\n",
              "RrIQgu1nebhrajuND18XUb3uKreMDQZ8e1RXnrssW2NwWP3rSBJ77aDODhiVK60cRLR4TQKi/NXZ\n",
              "U4Ct5CbDBuiSXpGq0apglZtVGQdB39cLsb3r0EaGDZT3jQ9DWbnLaQAAAC9Bn/lFFSwQ/wACWtst\n",
              "IGxKw2U8tGWcYEC2lufY5LWZa99s2/nVCVTQpVWwh3VnwAAAAC0Bnhh0Q/8ABUBcewRFRVlMq8AG\n",
              "OWXhU7Ma7EmUbzvy731veKB2BcB6GnwJR3UAAAAoAZ4aakP/AAVBH8z6vQwKxi6djDB4waZvyQX7\n",
              "+TwhimxKlAhGF+BswAAAAPFBmh9JqEFsmUwIJf/+tSqAAb6HY+dQAi0BnNFyArh4b8FZfLAM4jyH\n",
              "uRWRr3hFAaShaSFKZvGT8jg9n4FATdZnJAEXGwKG0SvJzpHpJ/JN1QQgzraJrG3FMY6cEtl/Jbr0\n",
              "6EC9pRvtBgrijKY4JF8y2atgQs2IBN+ODk7av+i0AiH8Uj5A2DApaGmzYsLdlrTnP1CM5M/i+UDF\n",
              "STRY6Llbnj6w7/tDpw67wwb6R3O924gl15QoP/rFLSJPLctb1yfD5wX69ycH9ZRovs7UHDsLjBTL\n",
              "eAgMc6YnjUL1kutZOm+OzO4ueeGOwSdRtsrV93MDAAAAREGePUUVLBD/AAJa2yw7qtB02nly7x80\n",
              "coFsud0Mg22llysSIARlHNzv6PHwPPbMJpNiIYM9FoJmAWaAKFBgS2o7QQIfAAAALgGeXHRD/wAF\n",
              "QFxvADnjZtTi4+5SZ5OC2A1NZIwPRfKZXpzD0wy1ANA+6JUBFfAAAAApAZ5eakP/AAVBH8z6vQwL\n",
              "asO0xFROlW/z9pJS2+EJ4yZ8b0ZO8vBPBOwAAAB5QZpDSahBbJlMCH///qmWAA2VU1LbRACgSaiz\n",
              "MvWNb6TREuMhENrRCIHG5khOntnAB74XxfXoGtVXx+CPRKcrPuvo6cldufEsx1h+dDaonLz32dJE\n",
              "WSa+lcpjAHfe9lCgI030T3GpeU7/I5/LH/sfqImKalENYliHwQAAAENBnmFFFSwQ/wACWtssO6rQ\n",
              "dO9MVKlq8tbZtH16yeHNSG17eXmRtk9mFs2HM4+JlivIkI3yFIJKHNnL2FyMcATzDgz4AAAAMgGe\n",
              "gHRD/wAFQFx68O0zcpBONsWjvTzHL7AGNTPAwX5XdYd9PbJB4pijKGBQ4Mx30DPhAAAANAGegmpD\n",
              "/wAFQR/M+r0MC2rDtMOTV8kXVR33fOW/JHtIQVnvS4e0RfhmNTMCeE4OLZC7YWUAAAfObW9vdgAA\n",
              "AGxtdmhkAAAAAAAAAAAAAAAAAAAD6AAATiAAAQAAAQAAAAAAAAAAAAAAAAEAAAAAAAAAAAAAAAAA\n",
              "AAABAAAAAAAAAAAAAAAAAABAAAAAAAAAAAAAAAAAAAAAAAAAAAAAAAAAAAAAAAAAAgAABvh0cmFr\n",
              "AAAAXHRraGQAAAADAAAAAAAAAAAAAAABAAAAAAAATiAAAAAAAAAAAAAAAAAAAAAAAAEAAAAAAAAA\n",
              "AAAAAAAAAAABAAAAAAAAAAAAAAAAAABAAAAAAbAAAAEgAAAAAAAkZWR0cwAAABxlbHN0AAAAAAAA\n",
              "AAEAAE4gAAAQAAABAAAAAAZwbWRpYQAAACBtZGhkAAAAAAAAAAAAAAAAAAAoAAADIABVxAAAAAAA\n",
              "LWhkbHIAAAAAAAAAAHZpZGUAAAAAAAAAAAAAAABWaWRlb0hhbmRsZXIAAAAGG21pbmYAAAAUdm1o\n",
              "ZAAAAAEAAAAAAAAAAAAAACRkaW5mAAAAHGRyZWYAAAAAAAAAAQAAAAx1cmwgAAAAAQAABdtzdGJs\n",
              "AAAAs3N0c2QAAAAAAAAAAQAAAKNhdmMxAAAAAAAAAAEAAAAAAAAAAAAAAAAAAAAAAbABIABIAAAA\n",
              "SAAAAAAAAAABAAAAAAAAAAAAAAAAAAAAAAAAAAAAAAAAAAAAAAAAAAAAGP//AAAAMWF2Y0MBZAAV\n",
              "/+EAGGdkABWs2UGwloQAAAMABAAAAwAoPFi2WAEABmjr48siwAAAABx1dWlka2hA8l8kT8W6OaUb\n",
              "zwMj8wAAAAAAAAAYc3R0cwAAAAAAAAABAAAAZAAACAAAAAAUc3RzcwAAAAAAAAABAAAAAQAAAyBj\n",
              "dHRzAAAAAAAAAGIAAAACAAAQAAAAAAEAABgAAAAAAQAACAAAAAABAAAQAAAAAAEAACgAAAAAAQAA\n",
              "EAAAAAABAAAAAAAAAAEAAAgAAAAAAQAAIAAAAAACAAAIAAAAAAEAACgAAAAAAQAAEAAAAAABAAAA\n",
              "AAAAAAEAAAgAAAAAAQAAKAAAAAABAAAQAAAAAAEAAAAAAAAAAQAACAAAAAABAAAoAAAAAAEAABAA\n",
              "AAAAAQAAAAAAAAABAAAIAAAAAAEAACgAAAAAAQAAEAAAAAABAAAAAAAAAAEAAAgAAAAAAQAAKAAA\n",
              "AAABAAAQAAAAAAEAAAAAAAAAAQAACAAAAAABAAAoAAAAAAEAABAAAAAAAQAAAAAAAAABAAAIAAAA\n",
              "AAEAACgAAAAAAQAAEAAAAAABAAAAAAAAAAEAAAgAAAAAAQAAKAAAAAABAAAQAAAAAAEAAAAAAAAA\n",
              "AQAACAAAAAABAAAoAAAAAAEAABAAAAAAAQAAAAAAAAABAAAIAAAAAAEAACgAAAAAAQAAEAAAAAAB\n",
              "AAAAAAAAAAEAAAgAAAAAAQAAKAAAAAABAAAQAAAAAAEAAAAAAAAAAQAACAAAAAABAAAoAAAAAAEA\n",
              "ABAAAAAAAQAAAAAAAAABAAAIAAAAAAEAACgAAAAAAQAAEAAAAAABAAAAAAAAAAEAAAgAAAAAAQAA\n",
              "KAAAAAABAAAQAAAAAAEAAAAAAAAAAQAACAAAAAABAAAoAAAAAAEAABAAAAAAAQAAAAAAAAABAAAI\n",
              "AAAAAAEAACgAAAAAAQAAEAAAAAABAAAAAAAAAAEAAAgAAAAAAQAAKAAAAAABAAAQAAAAAAEAAAAA\n",
              "AAAAAQAACAAAAAABAAAoAAAAAAEAABAAAAAAAQAAAAAAAAABAAAIAAAAAAEAACgAAAAAAQAAEAAA\n",
              "AAABAAAAAAAAAAEAAAgAAAAAAQAAKAAAAAABAAAQAAAAAAEAAAAAAAAAAQAACAAAAAABAAAoAAAA\n",
              "AAEAABAAAAAAAQAAAAAAAAABAAAIAAAAAAEAACgAAAAAAQAAEAAAAAABAAAAAAAAAAEAAAgAAAAA\n",
              "HHN0c2MAAAAAAAAAAQAAAAEAAABkAAAAAQAAAaRzdHN6AAAAAAAAAAAAAABkAAAUHQAAA1IAAAOA\n",
              "AAAAugAAAgYAAAO7AAAAzQAAAHwAAABTAAAC6AAAAJMAAAA/AAADWwAAAHMAAABGAAAAOQAAApgA\n",
              "AABMAAAAKwAAACwAAALAAAAATQAAAC4AAAAnAAACvwAAAD0AAAApAAAAHAAAAngAAABBAAAAHgAA\n",
              "AD8AAAJXAAAAPQAAAC4AAAA1AAACuAAAAGIAAABAAAAAKwAAAswAAABOAAAAMQAAAC0AAAKsAAAA\n",
              "bwAAAC4AAAA8AAACRwAAADgAAABKAAAAOgAAAokAAABiAAAANQAAADwAAAKOAAAAVQAAAFYAAABW\n",
              "AAACkwAAAF4AAAAxAAAAPAAAAoQAAABAAAAAPAAAAB4AAAI1AAAAKAAAACgAAAAjAAABuAAAADgA\n",
              "AAAnAAAALAAAAisAAABdAAAAMwAAADUAAAHpAAAAOQAAAEgAAAA4AAABfQAAAC0AAAA7AAAANQAA\n",
              "AXoAAAAzAAAAMQAAACwAAAD1AAAASAAAADIAAAAtAAAAfQAAAEcAAAA2AAAAOAAAABRzdGNvAAAA\n",
              "AAAAAAEAAAAsAAAAYnVkdGEAAABabWV0YQAAAAAAAAAhaGRscgAAAAAAAAAAbWRpcmFwcGwAAAAA\n",
              "AAAAAAAAAAAtaWxzdAAAACWpdG9vAAAAHWRhdGEAAAABAAAAAExhdmY1Ny44My4xMDA=\n",
              "\">\n",
              "  Your browser does not support the video tag.\n",
              "</video>"
            ],
            "text/plain": [
              "<IPython.core.display.HTML object>"
            ]
          },
          "metadata": {
            "tags": []
          },
          "execution_count": 105
        }
      ]
    }
  ]
}